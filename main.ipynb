{
  "nbformat": 4,
  "nbformat_minor": 0,
  "metadata": {
    "colab": {
      "name": "main.ipynb",
      "provenance": [],
      "collapsed_sections": [
        "wSfHAuC7XgRl"
      ],
      "toc_visible": true,
      "include_colab_link": true
    },
    "kernelspec": {
      "name": "python3",
      "display_name": "Python 3"
    },
    "accelerator": "GPU"
  },
  "cells": [
    {
      "cell_type": "markdown",
      "metadata": {
        "id": "view-in-github",
        "colab_type": "text"
      },
      "source": [
        "<a href=\"https://colab.research.google.com/github/n0k0m3/rnn-mal-sentiment/blob/main/main.ipynb\" target=\"_parent\"><img src=\"https://colab.research.google.com/assets/colab-badge.svg\" alt=\"Open In Colab\"/></a>"
      ]
    },
    {
      "cell_type": "markdown",
      "metadata": {
        "id": "e1z8cDXkceSU"
      },
      "source": [
        "<center><span style=\"font-size:6em\"><b>Neural Networks</b></span></center>\r\n",
        "\r\n",
        "***\r\n",
        "<center><span style=\"font-size:2em\"><b>Project 3</b></span></center>\r\n",
        "<br>\r\n",
        "<center><span style=\"font-size:2em\"><b>Sentiment Analysis on MyAnimeList User Ratings</b></span></center>\r\n",
        "<br>\r\n",
        "<center><span style=\"font-size:1.5em\"><b>Van Minh Nguyen  &   Tsz Chung Ho</b></span></center>\r\n",
        "\r\n",
        "***\r\n",
        "\r\n",
        "All data, codes and scripts can be obtained from [Github Repo](https://github.com/n0k0m3/rnn-mal-sentiment)"
      ]
    },
    {
      "cell_type": "markdown",
      "metadata": {
        "id": "tEoZ_KyVeU7s"
      },
      "source": [
        "# Problem Statement\r\n",
        "\r\n",
        "We perform Sentiment Analysis on user reviews from the website [MyAnimeList](https://myanimelist.net/). \r\n",
        "\r\n",
        "Users can review anime and assign scores ranging from 0-10 for 6 categories (story, animation, sound, character, enjoyment, overall).\r\n",
        "\r\n",
        "We extracted review data using [Jikan REST API](https://github.com/jikan-me/jikan-rest) on our own server, and not the official MAL API (because it doesn't allow us to extract the reviews and scores which we need...).\r\n",
        "\r\n",
        "We end up with a dataset consisting of about 60000 reviews. Each entry consists of a review plus the 6 aforementioned scores (so in effect we are doing multilabel classification).\r\n",
        "\r\n",
        "We use the built-in TextVectorization method from keras to extract features for our classifier. \r\n",
        "\r\n",
        "\r\n"
      ]
    },
    {
      "cell_type": "markdown",
      "metadata": {
        "id": "WVholqhKeYEJ"
      },
      "source": [
        "# Data Collection and Preprocessing"
      ]
    },
    {
      "cell_type": "markdown",
      "metadata": {
        "id": "llow14mcABhh"
      },
      "source": [
        "## Jikan API - MAL crawler\r\n",
        "\r\n",
        "Official MyAnimeList API doesn't offer the data we wanted: Review and Review Ratings from Users so we have to use an unofficial web crawler API.\r\n",
        "\r\n",
        "Jikan API ([documentation](https://jikan.docs.apiary.io/#)) is an Unofficial MyAnimeList API, which crawl the webpage of MAL anime with specified ID and returns a json with all populated data on the website. Free hosted Jikan API has a rate limit of 1 request/ 4 seconds, which is not enough for the purpose of data collection. We have to host our own server and make a [script](https://github.com/n0k0m3/rnn-mal-sentiment/blob/main/jikan.py) to call the API to crawl.\r\n",
        "\r\n",
        "We collected users' scores and reviews from the top 500 anime ranked by popularity and stored the data in a pandas DataFrame, saved in HDF5 format to use in notebook\r\n",
        "\r\n",
        "Clip of data collection in process: https://streamable.com/7bq01q"
      ]
    },
    {
      "cell_type": "markdown",
      "metadata": {
        "id": "CJha4Faf__p6"
      },
      "source": [
        "## Data Preprocessing\r\n",
        "\r\n",
        "After obtaining the review data, we converted the scores in each column to the classes 0 and 1 for negative ($\\leq 5$) and positive ($\\geq 7$). We set scores of 5 equal to null and then dropped rows which contained null entries.\r\n",
        "\r\n",
        "As with most NLP problems, we vectorize the text entries to extract features for our classifiers. \r\n",
        "The process involves splitting the text into tokens and assigning an integer index for each token. \r\n",
        "In keras this is handled with the VectorTokenization class. \r\n",
        "We tried using n-grams as tokens as well; these allow us to use words of up to length n as individual tokens, which helps us capture more context information. \r\n",
        "\r\n",
        "After vectorizing the text, we used an embedding layer to turn words into vectors of fixed size, before feeding the word as input into the classifier. The parameters of the embedding layer can be learned from training. \r\n",
        "\r\n",
        "Since we used a linear Support Vector Machine for baseline comparisons, we also used sklearn's implementation of tf-idf (TfidfVectorizer) before passing the data into the SVM classifier. \r\n",
        "This method uses a vocabulary of words as well, but the idea is to assign weights on words according to how frequently they appear in a single document (proportional) vs multiple documents (inversely proportional). \r\n",
        "\r\n",
        "Lastly, we also tried using a Convolutional Network with word vectors obtained from word2vec (trained using GoogleNews dataset). \r\n",
        "Word2vec is an embedding method which, given a large set of text, constructs a vector space such that words embedded into that vector space are close if their contexts are similar. \r\n",
        "This word embedding is different from training the embedding layer in our LSTM network, since we are using pre-trained weights from the Google News dataset."
      ]
    },
    {
      "cell_type": "markdown",
      "metadata": {
        "id": "OYA17ajZeAuO"
      },
      "source": [
        "# Data Loading and Preparation"
      ]
    },
    {
      "cell_type": "code",
      "metadata": {
        "id": "EEuics5JVl4-"
      },
      "source": [
        "%%capture\n",
        "!pip install -U tables\n",
        "!apt-get update && apt-get install git-lfs\n",
        "!git lfs clone https://github.com/n0k0m3/rnn-mal-sentiment\n",
        "\"\"\"Restart Runtime NOW!\"\"\""
      ],
      "execution_count": 1,
      "outputs": []
    },
    {
      "cell_type": "markdown",
      "metadata": {
        "id": "bhXfLjbfi13_"
      },
      "source": [
        "WARNING: Restart Runtime after running the 1st cell"
      ]
    },
    {
      "cell_type": "code",
      "metadata": {
        "id": "l4Ex8-u_V_Fn",
        "colab": {
          "base_uri": "https://localhost:8080/"
        },
        "outputId": "6cee0872-5c3c-4a54-cad8-b7902e770be1"
      },
      "source": [
        "%cd rnn-mal-sentiment\n",
        "import pandas as pd\n",
        "import numpy as np\n",
        "import tensorflow as tf"
      ],
      "execution_count": 2,
      "outputs": [
        {
          "output_type": "stream",
          "text": [
            "/content/rnn-mal-sentiment\n"
          ],
          "name": "stdout"
        }
      ]
    },
    {
      "cell_type": "code",
      "metadata": {
        "id": "Zeo0L5Z4WRtZ"
      },
      "source": [
        "df = pd.read_hdf(\"data.h5\")"
      ],
      "execution_count": 3,
      "outputs": []
    },
    {
      "cell_type": "code",
      "metadata": {
        "id": "M5YiszUlb-mQ"
      },
      "source": [
        "from tensorflow.keras import Input\n",
        "from tensorflow.keras.layers import Activation\n",
        "from tensorflow.keras.layers import Bidirectional\n",
        "from tensorflow.keras.layers import Conv1D\n",
        "from tensorflow.keras.layers import Dense\n",
        "from tensorflow.keras.layers import Dropout\n",
        "from tensorflow.keras.layers import Embedding\n",
        "from tensorflow.keras.layers import LSTM\n",
        "from tensorflow.keras.layers import MaxPooling1D\n",
        "from tensorflow.keras.layers import SimpleRNN\n",
        "from tensorflow.keras.layers.experimental.preprocessing import TextVectorization\n",
        "from tensorflow.keras.models import Sequential\n",
        "from tensorflow.keras.preprocessing import text_dataset_from_directory\n",
        "from tensorflow.strings import regex_replace\n",
        "\n",
        "from sklearn.model_selection import train_test_split\n",
        "from sklearn.metrics import classification_report\n",
        "\n",
        "import matplotlib.pyplot as plt\n",
        "import numpy as np\n",
        "import os\n",
        "import shutil\n",
        "import zipfile"
      ],
      "execution_count": 4,
      "outputs": []
    },
    {
      "cell_type": "markdown",
      "metadata": {
        "id": "a0nlUYLEeKl6"
      },
      "source": [
        "Convert score into sentiment label: Score of 7 and higher is considered positive, score of 5 and lower is considered negative"
      ]
    },
    {
      "cell_type": "code",
      "metadata": {
        "id": "b3q_SVyHjBS3"
      },
      "source": [
        "def sentiment_label(input):\n",
        "  if input >= 7:\n",
        "    return 1\n",
        "  elif input <= 5:\n",
        "    return 0\n",
        "  else:\n",
        "    return np.nan\n",
        "df[df.columns[:-1]] = df[df.columns[:-1]].applymap(sentiment_label)\n",
        "df = df.drop([0]).dropna()"
      ],
      "execution_count": 5,
      "outputs": []
    },
    {
      "cell_type": "markdown",
      "metadata": {
        "id": "Th1C3JJyej9n"
      },
      "source": [
        "If a data point has a NaN score, we'll drop the data. This reduced the amount of data point from 80000 to 60000. Now we proceed to split the dataset to Training | Validation | Testing sets with the ratio 80:10:10"
      ]
    },
    {
      "cell_type": "code",
      "metadata": {
        "id": "06BF50UHS2ps"
      },
      "source": [
        "X = df.pop(\"review\")\n",
        "Y = df.copy()\n",
        "(trainX, testX, trainY, testY) = train_test_split(X, Y, test_size = 0.1)\n",
        "(trainX, valX, trainY, valY) = train_test_split(trainX, trainY, test_size = 0.1)"
      ],
      "execution_count": 6,
      "outputs": []
    },
    {
      "cell_type": "markdown",
      "metadata": {
        "id": "o3U_rVBBfGVj"
      },
      "source": [
        "# Classification"
      ]
    },
    {
      "cell_type": "markdown",
      "metadata": {
        "id": "ALZ1nzzYfNAN"
      },
      "source": [
        "We will be trying out other classifiers as a baseline. The classifier of choice here is SVM."
      ]
    },
    {
      "cell_type": "markdown",
      "metadata": {
        "id": "Z6fHgDpASs5T"
      },
      "source": [
        "## Support Vector Machine (SVM)"
      ]
    },
    {
      "cell_type": "code",
      "metadata": {
        "id": "DN_PtEEUQMyN"
      },
      "source": [
        "from sklearn.feature_extraction.text import TfidfVectorizer\r\n",
        "# Create feature vectors\r\n",
        "vectorizer = TfidfVectorizer(min_df = 5,\r\n",
        "                             max_df = 0.8,\r\n",
        "                             sublinear_tf = True,\r\n",
        "                             use_idf = True)\r\n",
        "train_vectors = vectorizer.fit_transform(trainX)\r\n",
        "test_vectors = vectorizer.transform(testX)"
      ],
      "execution_count": null,
      "outputs": []
    },
    {
      "cell_type": "code",
      "metadata": {
        "id": "HNkY6kiAfgKf"
      },
      "source": [
        "# Trying out SVM \r\n",
        "from sklearn import svm\r\n",
        "from sklearn.metrics import classification_report\r\n",
        "\r\n",
        "# Perform classification with SVM, kernel=linear\r\n",
        "classifier_linear = svm.SVC(kernel='linear')\r\n",
        "\r\n",
        "classifier_linear.fit(train_vectors, trainY[\"overall\"])\r\n",
        "\r\n",
        "prediction_linear = classifier_linear.predict(test_vectors)\r\n",
        "\r\n",
        "\r\n",
        "# results\r\n",
        "\r\n",
        "report = classification_report(testY[\"overall\"], prediction_linear, output_dict=True)"
      ],
      "execution_count": null,
      "outputs": []
    },
    {
      "cell_type": "markdown",
      "metadata": {
        "id": "U-6GxQ78J5J_"
      },
      "source": [
        "SVM took 20-30 minutes to train and predict"
      ]
    },
    {
      "cell_type": "code",
      "metadata": {
        "colab": {
          "base_uri": "https://localhost:8080/"
        },
        "id": "6PAFop9WReq-",
        "outputId": "10e96744-bedb-44fe-8d81-de78700b6726"
      },
      "source": [
        "print(classification_report(testY[\"overall\"], prediction_linear))"
      ],
      "execution_count": null,
      "outputs": [
        {
          "output_type": "stream",
          "text": [
            "              precision    recall  f1-score   support\n",
            "\n",
            "         0.0       0.88      0.73      0.80       840\n",
            "         1.0       0.96      0.98      0.97      5237\n",
            "\n",
            "    accuracy                           0.95      6077\n",
            "   macro avg       0.92      0.86      0.88      6077\n",
            "weighted avg       0.95      0.95      0.95      6077\n",
            "\n"
          ],
          "name": "stdout"
        }
      ]
    },
    {
      "cell_type": "markdown",
      "metadata": {
        "id": "a6Nv7u3efoXK"
      },
      "source": [
        "## Recurrent Neural Networks with Long-Short Term Memory (RNN with LSTM)"
      ]
    },
    {
      "cell_type": "markdown",
      "metadata": {
        "id": "T0szTz6kh-_q"
      },
      "source": [
        "Without batching (batch = 1) it takes 9+ hours per epoch. Batching also allows us to increase vocabulary size and output length for the TextVectorization layer"
      ]
    },
    {
      "cell_type": "code",
      "metadata": {
        "id": "5lr0-QqHD8SB"
      },
      "source": [
        "maxTokens = 1000\n",
        "vectorizeLayer = TextVectorization(max_tokens=maxTokens,\n",
        "                                   output_mode = 'int',\n",
        "                                   output_sequence_length = 100)\n",
        "vectorizeLayer.adapt(trainX.values)"
      ],
      "execution_count": 7,
      "outputs": []
    },
    {
      "cell_type": "markdown",
      "metadata": {
        "id": "MD3BUk0zfo5O"
      },
      "source": [
        "However, with preliminary testing, the higher the size of the vocabulary (`max_tokens`) and output sequence, the longer it takes for the model to converges. Further discretion is needed to hypertune this hyperparameter."
      ]
    },
    {
      "cell_type": "markdown",
      "metadata": {
        "id": "4Y24fGwLfqrd"
      },
      "source": [
        "The data structure we'll be using is `tf.data.Dataset`. This method only creates a representation of the dataset and iteration happens in streaming fashion so full dataset doesn't need to be loaded into memory."
      ]
    },
    {
      "cell_type": "code",
      "metadata": {
        "id": "03segeOQUfz2"
      },
      "source": [
        "data_batch = 128\n",
        "\n",
        "train = tf.data.Dataset.from_tensor_slices((trainX.values, trainY[\"overall\"].values))\n",
        "train = train.shuffle(len(train)).batch(data_batch)\n",
        "\n",
        "val = tf.data.Dataset.from_tensor_slices((valX.values, valY[\"overall\"].values))\n",
        "val = val.shuffle(len(val)).batch(data_batch)\n",
        "\n",
        "test = tf.data.Dataset.from_tensor_slices((testX.values, testY[\"overall\"].values))\n",
        "test = test.shuffle(len(test)).batch(data_batch)"
      ],
      "execution_count": 48,
      "outputs": []
    },
    {
      "cell_type": "code",
      "metadata": {
        "id": "LkZpywFoS17v"
      },
      "source": [
        "class RNN_LSTM:\n",
        "    def build(vectorizeLayer,classes):\n",
        "\n",
        "      model = Sequential()\n",
        "\n",
        "      model.add(Input(shape=(1,), dtype = 'string'))\n",
        "\n",
        "      # add TextVectorization layer to the model\n",
        "      model.add(vectorizeLayer)\n",
        "\n",
        "      # add an embedding layer to turn integers into fixed-length vectors\n",
        "      model.add(Embedding(maxTokens + 1, 128))\n",
        "\n",
        "      # add a fully-connected recurrent layer\n",
        "      model.add(LSTM(64))\n",
        "      model.add(Dropout(0.5))\n",
        "\n",
        "      # add a dense layer\n",
        "      model.add(Dense(64, activation = 'relu'))\n",
        "      model.add(Dropout(0.5))\n",
        "\n",
        "      # add softmax classifier\n",
        "      model.add(Dense(classes, activation = 'sigmoid'))\n",
        "\n",
        "      return model"
      ],
      "execution_count": 96,
      "outputs": []
    },
    {
      "cell_type": "code",
      "metadata": {
        "colab": {
          "base_uri": "https://localhost:8080/"
        },
        "id": "13LDix_0jM6K",
        "outputId": "452fba18-5d6b-4c12-c944-223549703456"
      },
      "source": [
        "model_rnn = RNN_LSTM.build(vectorizeLayer,1)\r\n",
        "model_rnn.compile(optimizer = 'adam', loss = 'binary_crossentropy', metrics = ['accuracy'])\r\n",
        "model_rnn.summary()"
      ],
      "execution_count": 49,
      "outputs": [
        {
          "output_type": "stream",
          "text": [
            "Model: \"sequential_7\"\n",
            "_________________________________________________________________\n",
            "Layer (type)                 Output Shape              Param #   \n",
            "=================================================================\n",
            "text_vectorization_8 (TextVe (None, 100)               0         \n",
            "_________________________________________________________________\n",
            "embedding_7 (Embedding)      (None, 100, 128)          128128    \n",
            "_________________________________________________________________\n",
            "lstm_7 (LSTM)                (None, 64)                49408     \n",
            "_________________________________________________________________\n",
            "dropout_14 (Dropout)         (None, 64)                0         \n",
            "_________________________________________________________________\n",
            "dense_14 (Dense)             (None, 64)                4160      \n",
            "_________________________________________________________________\n",
            "dropout_15 (Dropout)         (None, 64)                0         \n",
            "_________________________________________________________________\n",
            "dense_15 (Dense)             (None, 1)                 65        \n",
            "=================================================================\n",
            "Total params: 181,761\n",
            "Trainable params: 181,761\n",
            "Non-trainable params: 0\n",
            "_________________________________________________________________\n"
          ],
          "name": "stdout"
        }
      ]
    },
    {
      "cell_type": "code",
      "metadata": {
        "colab": {
          "base_uri": "https://localhost:8080/"
        },
        "id": "pj0D0CsQV9M3",
        "outputId": "b144a0d7-eea5-4f1b-ad3a-78cee860e0ff"
      },
      "source": [
        "epochs = 10\n",
        "history_rnn = model_rnn.fit(train, validation_data = val, epochs = epochs)"
      ],
      "execution_count": 50,
      "outputs": [
        {
          "output_type": "stream",
          "text": [
            "Epoch 1/10\n",
            "385/385 [==============================] - 13s 34ms/step - loss: 0.3642 - accuracy: 0.8746 - val_loss: 0.3041 - val_accuracy: 0.8799\n",
            "Epoch 2/10\n",
            "385/385 [==============================] - 13s 33ms/step - loss: 0.2915 - accuracy: 0.8898 - val_loss: 0.2918 - val_accuracy: 0.8868\n",
            "Epoch 3/10\n",
            "385/385 [==============================] - 13s 33ms/step - loss: 0.2761 - accuracy: 0.8934 - val_loss: 0.3042 - val_accuracy: 0.8859\n",
            "Epoch 4/10\n",
            "385/385 [==============================] - 13s 33ms/step - loss: 0.2668 - accuracy: 0.8965 - val_loss: 0.2873 - val_accuracy: 0.8826\n",
            "Epoch 5/10\n",
            "385/385 [==============================] - 13s 33ms/step - loss: 0.2556 - accuracy: 0.9009 - val_loss: 0.3038 - val_accuracy: 0.8863\n",
            "Epoch 6/10\n",
            "385/385 [==============================] - 13s 33ms/step - loss: 0.2450 - accuracy: 0.9039 - val_loss: 0.3076 - val_accuracy: 0.8888\n",
            "Epoch 7/10\n",
            "385/385 [==============================] - 12s 32ms/step - loss: 0.2377 - accuracy: 0.9071 - val_loss: 0.2926 - val_accuracy: 0.8881\n",
            "Epoch 8/10\n",
            "385/385 [==============================] - 13s 33ms/step - loss: 0.2283 - accuracy: 0.9098 - val_loss: 0.2982 - val_accuracy: 0.8912\n",
            "Epoch 9/10\n",
            "385/385 [==============================] - 13s 33ms/step - loss: 0.2200 - accuracy: 0.9121 - val_loss: 0.3062 - val_accuracy: 0.8863\n",
            "Epoch 10/10\n",
            "385/385 [==============================] - 13s 33ms/step - loss: 0.2160 - accuracy: 0.9157 - val_loss: 0.3081 - val_accuracy: 0.8821\n"
          ],
          "name": "stdout"
        }
      ]
    },
    {
      "cell_type": "code",
      "metadata": {
        "id": "u6D4285fXez7",
        "colab": {
          "base_uri": "https://localhost:8080/",
          "height": 656
        },
        "outputId": "bcb997a2-539f-49d2-eb0d-2a36cd3bd486"
      },
      "source": [
        "#  Plot the training loss and accuracy\n",
        "plt.style.use('ggplot')\n",
        "plt.figure()\n",
        "plt.plot(np.arange(0, epochs), history_rnn.history['loss'], label = 'train_loss')\n",
        "plt.plot(np.arange(0, epochs), history_rnn.history['val_loss'], label = 'val_loss')\n",
        "plt.plot(np.arange(0, epochs), history_rnn.history['accuracy'], label = 'train_acc')\n",
        "plt.plot(np.arange(0, epochs), history_rnn.history['val_accuracy'], label = 'val_acc')\n",
        "    \n",
        "# add labels and legend\n",
        "plt.title('Training Loss and Accuracy')\n",
        "plt.xlabel('Epoch #')\n",
        "plt.ylabel('Loss/Accuracy')\n",
        "plt.legend()\n",
        "\n",
        "print(\"Training Accuracy\")\n",
        "predictedY = np.around(model_rnn.predict(trainX.values))\n",
        "print(classification_report(trainY[\"overall\"], predictedY))\n",
        "\n",
        "print()\n",
        "print(\"Testing Accuracy\")\n",
        "predictedY = np.around(model_rnn.predict(testX.values))\n",
        "print(classification_report(testY[\"overall\"], predictedY))"
      ],
      "execution_count": 51,
      "outputs": [
        {
          "output_type": "stream",
          "text": [
            "Training Accuracy\n",
            "              precision    recall  f1-score   support\n",
            "\n",
            "         0.0       0.72      0.64      0.68      6231\n",
            "         1.0       0.95      0.96      0.96     42988\n",
            "\n",
            "    accuracy                           0.92     49219\n",
            "   macro avg       0.83      0.80      0.82     49219\n",
            "weighted avg       0.92      0.92      0.92     49219\n",
            "\n",
            "\n",
            "Testing Accuracy\n",
            "              precision    recall  f1-score   support\n",
            "\n",
            "         0.0       0.54      0.49      0.51       775\n",
            "         1.0       0.93      0.94      0.93      5302\n",
            "\n",
            "    accuracy                           0.88      6077\n",
            "   macro avg       0.74      0.71      0.72      6077\n",
            "weighted avg       0.88      0.88      0.88      6077\n",
            "\n"
          ],
          "name": "stdout"
        },
        {
          "output_type": "display_data",
          "data": {
            "image/png": "[encoded data removed]",
            "text/plain": [
              "<Figure size 432x288 with 1 Axes>"
            ]
          },
          "metadata": {
            "tags": []
          }
        }
      ]
    },
    {
      "cell_type": "markdown",
      "metadata": {
        "id": "eVwaV1_-HUuF"
      },
      "source": [
        "### Multilabel Classification\r\n",
        "\r\n",
        "We'll now scale up the classification to all 6 labels, all binary label (Multi-label Binary classification)"
      ]
    },
    {
      "cell_type": "code",
      "metadata": {
        "colab": {
          "base_uri": "https://localhost:8080/"
        },
        "id": "ROSN7J_SGx3Z",
        "outputId": "5f298a4f-5700-486b-dc50-3614815391d4"
      },
      "source": [
        "data_batch = 128\r\n",
        "\r\n",
        "train6 = tf.data.Dataset.from_tensor_slices((trainX.values, trainY.values))\r\n",
        "train6 = train6.shuffle(len(train6)).batch(data_batch)\r\n",
        "\r\n",
        "val6 = tf.data.Dataset.from_tensor_slices((valX.values, valY.values))\r\n",
        "val6 = val6.shuffle(len(val6)).batch(data_batch)\r\n",
        "\r\n",
        "test6 = tf.data.Dataset.from_tensor_slices((testX.values, testY.values))\r\n",
        "test6 = test6.shuffle(len(test6)).batch(data_batch)\r\n",
        "\r\n",
        "# Using the same TextVectorization Layer fitted before\r\n",
        "model_rnn6 = RNN_LSTM.build(vectorizeLayer,6)\r\n",
        "model_rnn6.compile(optimizer = 'adam', loss = 'mse', metrics = ['accuracy'])\r\n",
        "model_rnn6.summary()\r\n",
        "\r\n",
        "epochs = 20\r\n",
        "history_rnn6 = model_rnn6.fit(train6, validation_data = val6, epochs = epochs)"
      ],
      "execution_count": 56,
      "outputs": [
        {
          "output_type": "stream",
          "text": [
            "Model: \"sequential_11\"\n",
            "_________________________________________________________________\n",
            "Layer (type)                 Output Shape              Param #   \n",
            "=================================================================\n",
            "text_vectorization_8 (TextVe (None, 100)               0         \n",
            "_________________________________________________________________\n",
            "embedding_11 (Embedding)     (None, 100, 128)          128128    \n",
            "_________________________________________________________________\n",
            "lstm_11 (LSTM)               (None, 64)                49408     \n",
            "_________________________________________________________________\n",
            "dropout_22 (Dropout)         (None, 64)                0         \n",
            "_________________________________________________________________\n",
            "dense_22 (Dense)             (None, 64)                4160      \n",
            "_________________________________________________________________\n",
            "dropout_23 (Dropout)         (None, 64)                0         \n",
            "_________________________________________________________________\n",
            "dense_23 (Dense)             (None, 6)                 390       \n",
            "=================================================================\n",
            "Total params: 182,086\n",
            "Trainable params: 182,086\n",
            "Non-trainable params: 0\n",
            "_________________________________________________________________\n",
            "Epoch 1/20\n",
            "385/385 [==============================] - 13s 34ms/step - loss: 0.1298 - accuracy: 0.2166 - val_loss: 0.1175 - val_accuracy: 0.0563\n",
            "Epoch 2/20\n",
            "385/385 [==============================] - 12s 32ms/step - loss: 0.1080 - accuracy: 0.3147 - val_loss: 0.1073 - val_accuracy: 0.4483\n",
            "Epoch 3/20\n",
            "385/385 [==============================] - 12s 32ms/step - loss: 0.1012 - accuracy: 0.4352 - val_loss: 0.1057 - val_accuracy: 0.5924\n",
            "Epoch 4/20\n",
            "385/385 [==============================] - 12s 32ms/step - loss: 0.0983 - accuracy: 0.5137 - val_loss: 0.1057 - val_accuracy: 0.7095\n",
            "Epoch 5/20\n",
            "385/385 [==============================] - 13s 33ms/step - loss: 0.0961 - accuracy: 0.5952 - val_loss: 0.1036 - val_accuracy: 0.6263\n",
            "Epoch 6/20\n",
            "385/385 [==============================] - 13s 32ms/step - loss: 0.0938 - accuracy: 0.6239 - val_loss: 0.1050 - val_accuracy: 0.7135\n",
            "Epoch 7/20\n",
            "385/385 [==============================] - 12s 32ms/step - loss: 0.0919 - accuracy: 0.6359 - val_loss: 0.1073 - val_accuracy: 0.7830\n",
            "Epoch 8/20\n",
            "385/385 [==============================] - 12s 32ms/step - loss: 0.0906 - accuracy: 0.6944 - val_loss: 0.1080 - val_accuracy: 0.7934\n",
            "Epoch 9/20\n",
            "385/385 [==============================] - 12s 32ms/step - loss: 0.0883 - accuracy: 0.7087 - val_loss: 0.1066 - val_accuracy: 0.7590\n",
            "Epoch 10/20\n",
            "385/385 [==============================] - 12s 32ms/step - loss: 0.0871 - accuracy: 0.7001 - val_loss: 0.1077 - val_accuracy: 0.7855\n",
            "Epoch 11/20\n",
            "385/385 [==============================] - 12s 32ms/step - loss: 0.0859 - accuracy: 0.7311 - val_loss: 0.1100 - val_accuracy: 0.8184\n",
            "Epoch 12/20\n",
            "385/385 [==============================] - 12s 32ms/step - loss: 0.0839 - accuracy: 0.7632 - val_loss: 0.1099 - val_accuracy: 0.7702\n",
            "Epoch 13/20\n",
            "385/385 [==============================] - 13s 33ms/step - loss: 0.0827 - accuracy: 0.7510 - val_loss: 0.1102 - val_accuracy: 0.7996\n",
            "Epoch 14/20\n",
            "385/385 [==============================] - 12s 32ms/step - loss: 0.0817 - accuracy: 0.7427 - val_loss: 0.1122 - val_accuracy: 0.8451\n",
            "Epoch 15/20\n",
            "385/385 [==============================] - 12s 32ms/step - loss: 0.0806 - accuracy: 0.7459 - val_loss: 0.1102 - val_accuracy: 0.8610\n",
            "Epoch 16/20\n",
            "385/385 [==============================] - 12s 32ms/step - loss: 0.0810 - accuracy: 0.7403 - val_loss: 0.1137 - val_accuracy: 0.8104\n",
            "Epoch 17/20\n",
            "385/385 [==============================] - 12s 32ms/step - loss: 0.0782 - accuracy: 0.7731 - val_loss: 0.1146 - val_accuracy: 0.8012\n",
            "Epoch 18/20\n",
            "385/385 [==============================] - 12s 32ms/step - loss: 0.0760 - accuracy: 0.7809 - val_loss: 0.1126 - val_accuracy: 0.8413\n",
            "Epoch 19/20\n",
            "385/385 [==============================] - 12s 32ms/step - loss: 0.0751 - accuracy: 0.7796 - val_loss: 0.1142 - val_accuracy: 0.7680\n",
            "Epoch 20/20\n",
            "385/385 [==============================] - 12s 32ms/step - loss: 0.0744 - accuracy: 0.7430 - val_loss: 0.1162 - val_accuracy: 0.8193\n"
          ],
          "name": "stdout"
        }
      ]
    },
    {
      "cell_type": "code",
      "metadata": {
        "id": "ZY9ROlWHbWyP"
      },
      "source": [
        "def plot_report(history,model):\r\n",
        "  #  Plot the training loss and accuracy\r\n",
        "  plt.style.use('ggplot')\r\n",
        "  plt.figure()\r\n",
        "  plt.plot(np.arange(0, epochs), history.history['loss'], label = 'train_loss')\r\n",
        "  plt.plot(np.arange(0, epochs), history.history['val_loss'], label = 'val_loss')\r\n",
        "  plt.plot(np.arange(0, epochs), history.history['accuracy'], label = 'train_acc')\r\n",
        "  plt.plot(np.arange(0, epochs), history.history['val_accuracy'], label = 'val_acc')\r\n",
        "      \r\n",
        "  # add labels and legend\r\n",
        "  plt.title('Training Loss and Accuracy')\r\n",
        "  plt.xlabel('Epoch #')\r\n",
        "  plt.ylabel('Loss/Accuracy')\r\n",
        "  plt.legend()"
      ],
      "execution_count": 22,
      "outputs": []
    },
    {
      "cell_type": "code",
      "metadata": {
        "colab": {
          "base_uri": "https://localhost:8080/",
          "height": 914
        },
        "id": "JsJJZvmeHrV8",
        "outputId": "a2369cc0-9738-4f4c-933d-aa0b3b8838b5"
      },
      "source": [
        "plot_report(history_rnn6,model_rnn6)\r\n",
        "\r\n",
        "print(\"Training Accuracy\")\r\n",
        "predictedY = np.around(model_rnn6.predict(trainX.values))\r\n",
        "print(classification_report(trainY, predictedY))\r\n",
        "\r\n",
        "print()\r\n",
        "print(\"Testing Accuracy\")\r\n",
        "predictedY = np.around(model_rnn6.predict(testX.values))\r\n",
        "print(classification_report(testY, predictedY))"
      ],
      "execution_count": 59,
      "outputs": [
        {
          "output_type": "stream",
          "text": [
            "Training Accuracy\n"
          ],
          "name": "stdout"
        },
        {
          "output_type": "stream",
          "text": [
            "/usr/local/lib/python3.6/dist-packages/sklearn/metrics/_classification.py:1272: UndefinedMetricWarning: Precision and F-score are ill-defined and being set to 0.0 in samples with no predicted labels. Use `zero_division` parameter to control this behavior.\n",
            "  _warn_prf(average, modifier, msg_start, len(result))\n",
            "/usr/local/lib/python3.6/dist-packages/sklearn/metrics/_classification.py:1272: UndefinedMetricWarning: Recall and F-score are ill-defined and being set to 0.0 in samples with no true labels. Use `zero_division` parameter to control this behavior.\n",
            "  _warn_prf(average, modifier, msg_start, len(result))\n"
          ],
          "name": "stderr"
        },
        {
          "output_type": "stream",
          "text": [
            "              precision    recall  f1-score   support\n",
            "\n",
            "           0       0.95      0.98      0.96     42988\n",
            "           1       0.92      0.98      0.95     40470\n",
            "           2       0.94      0.96      0.95     43737\n",
            "           3       0.94      0.96      0.95     43293\n",
            "           4       0.92      0.98      0.95     40800\n",
            "           5       0.93      0.98      0.95     41099\n",
            "\n",
            "   micro avg       0.93      0.98      0.95    252387\n",
            "   macro avg       0.93      0.98      0.95    252387\n",
            "weighted avg       0.93      0.98      0.95    252387\n",
            " samples avg       0.85      0.89      0.85    252387\n",
            "\n",
            "\n",
            "Testing Accuracy\n",
            "              precision    recall  f1-score   support\n",
            "\n",
            "           0       0.92      0.94      0.93      5302\n",
            "           1       0.88      0.94      0.91      5003\n",
            "           2       0.91      0.95      0.93      5380\n",
            "           3       0.91      0.94      0.92      5341\n",
            "           4       0.88      0.94      0.91      5034\n",
            "           5       0.88      0.94      0.91      5084\n",
            "\n",
            "   micro avg       0.90      0.94      0.92     31144\n",
            "   macro avg       0.90      0.94      0.92     31144\n",
            "weighted avg       0.90      0.94      0.92     31144\n",
            " samples avg       0.82      0.87      0.82     31144\n",
            "\n"
          ],
          "name": "stdout"
        },
        {
          "output_type": "display_data",
          "data": {
            "image/png": "[encoded data removed]",
            "text/plain": [
              "<Figure size 432x288 with 1 Axes>"
            ]
          },
          "metadata": {
            "tags": []
          }
        }
      ]
    },
    {
      "cell_type": "code",
      "metadata": {
        "colab": {
          "base_uri": "https://localhost:8080/"
        },
        "id": "ZHdTkpEkQ0oD",
        "outputId": "a3af23ec-4f02-4d71-adeb-72a7d55d9e7a"
      },
      "source": [
        "predictedY_df = pd.DataFrame(data=predictedY, columns=testY.columns)\r\n",
        "# predictedY_df[(predictedY_df[\"overall\"]==1) & (predictedY_df[\"story\"]==0) & (predictedY_df[\"enjoyment\"]==1)]\r\n",
        "predictedY_df.iloc[1236]"
      ],
      "execution_count": 88,
      "outputs": [
        {
          "output_type": "execute_result",
          "data": {
            "text/plain": [
              "overall      1.0\n",
              "story        0.0\n",
              "animation    1.0\n",
              "sound        1.0\n",
              "character    0.0\n",
              "enjoyment    1.0\n",
              "Name: 1236, dtype: float32"
            ]
          },
          "metadata": {
            "tags": []
          },
          "execution_count": 88
        }
      ]
    },
    {
      "cell_type": "code",
      "metadata": {
        "colab": {
          "base_uri": "https://localhost:8080/"
        },
        "id": "h1FCsTBNSsEu",
        "outputId": "e66d7c56-18f9-4f54-d19e-1a3ce458bdf7"
      },
      "source": [
        "testY.iloc[1236]"
      ],
      "execution_count": 89,
      "outputs": [
        {
          "output_type": "execute_result",
          "data": {
            "text/plain": [
              "overall      1.0\n",
              "story        1.0\n",
              "animation    1.0\n",
              "sound        1.0\n",
              "character    1.0\n",
              "enjoyment    1.0\n",
              "Name: 10882, dtype: float64"
            ]
          },
          "metadata": {
            "tags": []
          },
          "execution_count": 89
        }
      ]
    },
    {
      "cell_type": "markdown",
      "metadata": {
        "id": "qoKtmQF6QHoI"
      },
      "source": [
        "## Hyperparameter Tuning"
      ]
    },
    {
      "cell_type": "markdown",
      "metadata": {
        "id": "4PpPRq-9QPmh"
      },
      "source": [
        "### TextVectorization Layer tuning"
      ]
    },
    {
      "cell_type": "markdown",
      "metadata": {
        "id": "4qeFej6-Vu0R"
      },
      "source": [
        "TextVectorization is very important layer in LTSM since it converted the texts into tokens/int vectors that can be used in RNN. Different hyperparameters tuning will results in different classification result.\r\n",
        "\r\n",
        "From preliminary testing, `max_tokens` (vocabulary size) and `output_sequence_length` are sensible and increasing these parameters will cause the model to converges slower. Considering the time taken to run 1 epoch (logs above), we decided to not tuning these hyperparameter."
      ]
    },
    {
      "cell_type": "markdown",
      "metadata": {
        "id": "wSfHAuC7XgRl"
      },
      "source": [
        "#### Using TD-IDF output mode (Doesn't work)"
      ]
    },
    {
      "cell_type": "code",
      "metadata": {
        "id": "YMcxlOtXQNwe"
      },
      "source": [
        "maxTokens = 1000\r\n",
        "vectorizeLayer = TextVectorization(max_tokens=maxTokens,\r\n",
        "                                   output_mode = 'tf-idf')\r\n",
        "vectorizeLayer.adapt(trainX.values)"
      ],
      "execution_count": 90,
      "outputs": []
    },
    {
      "cell_type": "code",
      "metadata": {
        "colab": {
          "base_uri": "https://localhost:8080/",
          "height": 0
        },
        "id": "NkMHRbikXtDw",
        "outputId": "69189939-5205-4ce3-83f6-5084a7a1ca6d"
      },
      "source": [
        "model_rnn_tfidf = RNN_LSTM.build(vectorizeLayer,6)\r\n",
        "model_rnn_tfidf.compile(optimizer = 'adam', loss = 'binary_crossentropy', metrics = ['accuracy'])\r\n",
        "model_rnn_tfidf.summary()\r\n",
        "epochs = 10\r\n",
        "history_rnn6 = model_rnn_tfidf.fit(train6, validation_data = val6, epochs = epochs)"
      ],
      "execution_count": 98,
      "outputs": [
        {
          "output_type": "stream",
          "text": [
            "Model: \"sequential_15\"\n",
            "_________________________________________________________________\n",
            "Layer (type)                 Output Shape              Param #   \n",
            "=================================================================\n",
            "text_vectorization_9 (TextVe (None, 1000)              0         \n",
            "_________________________________________________________________\n",
            "embedding_14 (Embedding)     (None, 1000, 128)         128128    \n",
            "_________________________________________________________________\n",
            "lstm_15 (LSTM)               (None, 64)                49408     \n",
            "_________________________________________________________________\n",
            "dropout_28 (Dropout)         (None, 64)                0         \n",
            "_________________________________________________________________\n",
            "dense_28 (Dense)             (None, 64)                4160      \n",
            "_________________________________________________________________\n",
            "dropout_29 (Dropout)         (None, 64)                0         \n",
            "_________________________________________________________________\n",
            "dense_29 (Dense)             (None, 6)                 390       \n",
            "=================================================================\n",
            "Total params: 183,086\n",
            "Trainable params: 182,086\n",
            "Non-trainable params: 1,000\n",
            "_________________________________________________________________\n",
            "Epoch 1/10\n",
            " 10/385 [..............................] - ETA: 29s - loss: 0.6602 - accuracy: 0.3453"
          ],
          "name": "stdout"
        },
        {
          "output_type": "error",
          "ename": "InvalidArgumentError",
          "evalue": "ignored",
          "traceback": [
            "\u001b[0;31m---------------------------------------------------------------------------\u001b[0m",
            "\u001b[0;31mInvalidArgumentError\u001b[0m                      Traceback (most recent call last)",
            "\u001b[0;32m<ipython-input-98-2077c5b9d91c>\u001b[0m in \u001b[0;36m<module>\u001b[0;34m()\u001b[0m\n\u001b[1;32m      3\u001b[0m \u001b[0mmodel_rnn_tfidf\u001b[0m\u001b[0;34m.\u001b[0m\u001b[0msummary\u001b[0m\u001b[0;34m(\u001b[0m\u001b[0;34m)\u001b[0m\u001b[0;34m\u001b[0m\u001b[0;34m\u001b[0m\u001b[0m\n\u001b[1;32m      4\u001b[0m \u001b[0mepochs\u001b[0m \u001b[0;34m=\u001b[0m \u001b[0;36m10\u001b[0m\u001b[0;34m\u001b[0m\u001b[0;34m\u001b[0m\u001b[0m\n\u001b[0;32m----> 5\u001b[0;31m \u001b[0mhistory_rnn6\u001b[0m \u001b[0;34m=\u001b[0m \u001b[0mmodel_rnn_tfidf\u001b[0m\u001b[0;34m.\u001b[0m\u001b[0mfit\u001b[0m\u001b[0;34m(\u001b[0m\u001b[0mtrain6\u001b[0m\u001b[0;34m,\u001b[0m \u001b[0mvalidation_data\u001b[0m \u001b[0;34m=\u001b[0m \u001b[0mval6\u001b[0m\u001b[0;34m,\u001b[0m \u001b[0mepochs\u001b[0m \u001b[0;34m=\u001b[0m \u001b[0mepochs\u001b[0m\u001b[0;34m)\u001b[0m\u001b[0;34m\u001b[0m\u001b[0;34m\u001b[0m\u001b[0m\n\u001b[0m",
            "\u001b[0;32m/usr/local/lib/python3.6/dist-packages/tensorflow/python/keras/engine/training.py\u001b[0m in \u001b[0;36m_method_wrapper\u001b[0;34m(self, *args, **kwargs)\u001b[0m\n\u001b[1;32m    106\u001b[0m   \u001b[0;32mdef\u001b[0m \u001b[0m_method_wrapper\u001b[0m\u001b[0;34m(\u001b[0m\u001b[0mself\u001b[0m\u001b[0;34m,\u001b[0m \u001b[0;34m*\u001b[0m\u001b[0margs\u001b[0m\u001b[0;34m,\u001b[0m \u001b[0;34m**\u001b[0m\u001b[0mkwargs\u001b[0m\u001b[0;34m)\u001b[0m\u001b[0;34m:\u001b[0m\u001b[0;34m\u001b[0m\u001b[0;34m\u001b[0m\u001b[0m\n\u001b[1;32m    107\u001b[0m     \u001b[0;32mif\u001b[0m \u001b[0;32mnot\u001b[0m \u001b[0mself\u001b[0m\u001b[0;34m.\u001b[0m\u001b[0m_in_multi_worker_mode\u001b[0m\u001b[0;34m(\u001b[0m\u001b[0;34m)\u001b[0m\u001b[0;34m:\u001b[0m  \u001b[0;31m# pylint: disable=protected-access\u001b[0m\u001b[0;34m\u001b[0m\u001b[0;34m\u001b[0m\u001b[0m\n\u001b[0;32m--> 108\u001b[0;31m       \u001b[0;32mreturn\u001b[0m \u001b[0mmethod\u001b[0m\u001b[0;34m(\u001b[0m\u001b[0mself\u001b[0m\u001b[0;34m,\u001b[0m \u001b[0;34m*\u001b[0m\u001b[0margs\u001b[0m\u001b[0;34m,\u001b[0m \u001b[0;34m**\u001b[0m\u001b[0mkwargs\u001b[0m\u001b[0;34m)\u001b[0m\u001b[0;34m\u001b[0m\u001b[0;34m\u001b[0m\u001b[0m\n\u001b[0m\u001b[1;32m    109\u001b[0m \u001b[0;34m\u001b[0m\u001b[0m\n\u001b[1;32m    110\u001b[0m     \u001b[0;31m# Running inside `run_distribute_coordinator` already.\u001b[0m\u001b[0;34m\u001b[0m\u001b[0;34m\u001b[0m\u001b[0;34m\u001b[0m\u001b[0m\n",
            "\u001b[0;32m/usr/local/lib/python3.6/dist-packages/tensorflow/python/keras/engine/training.py\u001b[0m in \u001b[0;36mfit\u001b[0;34m(self, x, y, batch_size, epochs, verbose, callbacks, validation_split, validation_data, shuffle, class_weight, sample_weight, initial_epoch, steps_per_epoch, validation_steps, validation_batch_size, validation_freq, max_queue_size, workers, use_multiprocessing)\u001b[0m\n\u001b[1;32m   1096\u001b[0m                 batch_size=batch_size):\n\u001b[1;32m   1097\u001b[0m               \u001b[0mcallbacks\u001b[0m\u001b[0;34m.\u001b[0m\u001b[0mon_train_batch_begin\u001b[0m\u001b[0;34m(\u001b[0m\u001b[0mstep\u001b[0m\u001b[0;34m)\u001b[0m\u001b[0;34m\u001b[0m\u001b[0;34m\u001b[0m\u001b[0m\n\u001b[0;32m-> 1098\u001b[0;31m               \u001b[0mtmp_logs\u001b[0m \u001b[0;34m=\u001b[0m \u001b[0mtrain_function\u001b[0m\u001b[0;34m(\u001b[0m\u001b[0miterator\u001b[0m\u001b[0;34m)\u001b[0m\u001b[0;34m\u001b[0m\u001b[0;34m\u001b[0m\u001b[0m\n\u001b[0m\u001b[1;32m   1099\u001b[0m               \u001b[0;32mif\u001b[0m \u001b[0mdata_handler\u001b[0m\u001b[0;34m.\u001b[0m\u001b[0mshould_sync\u001b[0m\u001b[0;34m:\u001b[0m\u001b[0;34m\u001b[0m\u001b[0;34m\u001b[0m\u001b[0m\n\u001b[1;32m   1100\u001b[0m                 \u001b[0mcontext\u001b[0m\u001b[0;34m.\u001b[0m\u001b[0masync_wait\u001b[0m\u001b[0;34m(\u001b[0m\u001b[0;34m)\u001b[0m\u001b[0;34m\u001b[0m\u001b[0;34m\u001b[0m\u001b[0m\n",
            "\u001b[0;32m/usr/local/lib/python3.6/dist-packages/tensorflow/python/eager/def_function.py\u001b[0m in \u001b[0;36m__call__\u001b[0;34m(self, *args, **kwds)\u001b[0m\n\u001b[1;32m    778\u001b[0m       \u001b[0;32melse\u001b[0m\u001b[0;34m:\u001b[0m\u001b[0;34m\u001b[0m\u001b[0;34m\u001b[0m\u001b[0m\n\u001b[1;32m    779\u001b[0m         \u001b[0mcompiler\u001b[0m \u001b[0;34m=\u001b[0m \u001b[0;34m\"nonXla\"\u001b[0m\u001b[0;34m\u001b[0m\u001b[0;34m\u001b[0m\u001b[0m\n\u001b[0;32m--> 780\u001b[0;31m         \u001b[0mresult\u001b[0m \u001b[0;34m=\u001b[0m \u001b[0mself\u001b[0m\u001b[0;34m.\u001b[0m\u001b[0m_call\u001b[0m\u001b[0;34m(\u001b[0m\u001b[0;34m*\u001b[0m\u001b[0margs\u001b[0m\u001b[0;34m,\u001b[0m \u001b[0;34m**\u001b[0m\u001b[0mkwds\u001b[0m\u001b[0;34m)\u001b[0m\u001b[0;34m\u001b[0m\u001b[0;34m\u001b[0m\u001b[0m\n\u001b[0m\u001b[1;32m    781\u001b[0m \u001b[0;34m\u001b[0m\u001b[0m\n\u001b[1;32m    782\u001b[0m       \u001b[0mnew_tracing_count\u001b[0m \u001b[0;34m=\u001b[0m \u001b[0mself\u001b[0m\u001b[0;34m.\u001b[0m\u001b[0m_get_tracing_count\u001b[0m\u001b[0;34m(\u001b[0m\u001b[0;34m)\u001b[0m\u001b[0;34m\u001b[0m\u001b[0;34m\u001b[0m\u001b[0m\n",
            "\u001b[0;32m/usr/local/lib/python3.6/dist-packages/tensorflow/python/eager/def_function.py\u001b[0m in \u001b[0;36m_call\u001b[0;34m(self, *args, **kwds)\u001b[0m\n\u001b[1;32m    805\u001b[0m       \u001b[0;31m# In this case we have created variables on the first call, so we run the\u001b[0m\u001b[0;34m\u001b[0m\u001b[0;34m\u001b[0m\u001b[0;34m\u001b[0m\u001b[0m\n\u001b[1;32m    806\u001b[0m       \u001b[0;31m# defunned version which is guaranteed to never create variables.\u001b[0m\u001b[0;34m\u001b[0m\u001b[0;34m\u001b[0m\u001b[0;34m\u001b[0m\u001b[0m\n\u001b[0;32m--> 807\u001b[0;31m       \u001b[0;32mreturn\u001b[0m \u001b[0mself\u001b[0m\u001b[0;34m.\u001b[0m\u001b[0m_stateless_fn\u001b[0m\u001b[0;34m(\u001b[0m\u001b[0;34m*\u001b[0m\u001b[0margs\u001b[0m\u001b[0;34m,\u001b[0m \u001b[0;34m**\u001b[0m\u001b[0mkwds\u001b[0m\u001b[0;34m)\u001b[0m  \u001b[0;31m# pylint: disable=not-callable\u001b[0m\u001b[0;34m\u001b[0m\u001b[0;34m\u001b[0m\u001b[0m\n\u001b[0m\u001b[1;32m    808\u001b[0m     \u001b[0;32melif\u001b[0m \u001b[0mself\u001b[0m\u001b[0;34m.\u001b[0m\u001b[0m_stateful_fn\u001b[0m \u001b[0;32mis\u001b[0m \u001b[0;32mnot\u001b[0m \u001b[0;32mNone\u001b[0m\u001b[0;34m:\u001b[0m\u001b[0;34m\u001b[0m\u001b[0;34m\u001b[0m\u001b[0m\n\u001b[1;32m    809\u001b[0m       \u001b[0;31m# Release the lock early so that multiple threads can perform the call\u001b[0m\u001b[0;34m\u001b[0m\u001b[0;34m\u001b[0m\u001b[0;34m\u001b[0m\u001b[0m\n",
            "\u001b[0;32m/usr/local/lib/python3.6/dist-packages/tensorflow/python/eager/function.py\u001b[0m in \u001b[0;36m__call__\u001b[0;34m(self, *args, **kwargs)\u001b[0m\n\u001b[1;32m   2827\u001b[0m     \u001b[0;32mwith\u001b[0m \u001b[0mself\u001b[0m\u001b[0;34m.\u001b[0m\u001b[0m_lock\u001b[0m\u001b[0;34m:\u001b[0m\u001b[0;34m\u001b[0m\u001b[0;34m\u001b[0m\u001b[0m\n\u001b[1;32m   2828\u001b[0m       \u001b[0mgraph_function\u001b[0m\u001b[0;34m,\u001b[0m \u001b[0margs\u001b[0m\u001b[0;34m,\u001b[0m \u001b[0mkwargs\u001b[0m \u001b[0;34m=\u001b[0m \u001b[0mself\u001b[0m\u001b[0;34m.\u001b[0m\u001b[0m_maybe_define_function\u001b[0m\u001b[0;34m(\u001b[0m\u001b[0margs\u001b[0m\u001b[0;34m,\u001b[0m \u001b[0mkwargs\u001b[0m\u001b[0;34m)\u001b[0m\u001b[0;34m\u001b[0m\u001b[0;34m\u001b[0m\u001b[0m\n\u001b[0;32m-> 2829\u001b[0;31m     \u001b[0;32mreturn\u001b[0m \u001b[0mgraph_function\u001b[0m\u001b[0;34m.\u001b[0m\u001b[0m_filtered_call\u001b[0m\u001b[0;34m(\u001b[0m\u001b[0margs\u001b[0m\u001b[0;34m,\u001b[0m \u001b[0mkwargs\u001b[0m\u001b[0;34m)\u001b[0m  \u001b[0;31m# pylint: disable=protected-access\u001b[0m\u001b[0;34m\u001b[0m\u001b[0;34m\u001b[0m\u001b[0m\n\u001b[0m\u001b[1;32m   2830\u001b[0m \u001b[0;34m\u001b[0m\u001b[0m\n\u001b[1;32m   2831\u001b[0m   \u001b[0;34m@\u001b[0m\u001b[0mproperty\u001b[0m\u001b[0;34m\u001b[0m\u001b[0;34m\u001b[0m\u001b[0m\n",
            "\u001b[0;32m/usr/local/lib/python3.6/dist-packages/tensorflow/python/eager/function.py\u001b[0m in \u001b[0;36m_filtered_call\u001b[0;34m(self, args, kwargs, cancellation_manager)\u001b[0m\n\u001b[1;32m   1846\u001b[0m                            resource_variable_ops.BaseResourceVariable))],\n\u001b[1;32m   1847\u001b[0m         \u001b[0mcaptured_inputs\u001b[0m\u001b[0;34m=\u001b[0m\u001b[0mself\u001b[0m\u001b[0;34m.\u001b[0m\u001b[0mcaptured_inputs\u001b[0m\u001b[0;34m,\u001b[0m\u001b[0;34m\u001b[0m\u001b[0;34m\u001b[0m\u001b[0m\n\u001b[0;32m-> 1848\u001b[0;31m         cancellation_manager=cancellation_manager)\n\u001b[0m\u001b[1;32m   1849\u001b[0m \u001b[0;34m\u001b[0m\u001b[0m\n\u001b[1;32m   1850\u001b[0m   \u001b[0;32mdef\u001b[0m \u001b[0m_call_flat\u001b[0m\u001b[0;34m(\u001b[0m\u001b[0mself\u001b[0m\u001b[0;34m,\u001b[0m \u001b[0margs\u001b[0m\u001b[0;34m,\u001b[0m \u001b[0mcaptured_inputs\u001b[0m\u001b[0;34m,\u001b[0m \u001b[0mcancellation_manager\u001b[0m\u001b[0;34m=\u001b[0m\u001b[0;32mNone\u001b[0m\u001b[0;34m)\u001b[0m\u001b[0;34m:\u001b[0m\u001b[0;34m\u001b[0m\u001b[0;34m\u001b[0m\u001b[0m\n",
            "\u001b[0;32m/usr/local/lib/python3.6/dist-packages/tensorflow/python/eager/function.py\u001b[0m in \u001b[0;36m_call_flat\u001b[0;34m(self, args, captured_inputs, cancellation_manager)\u001b[0m\n\u001b[1;32m   1922\u001b[0m       \u001b[0;31m# No tape is watching; skip to running the function.\u001b[0m\u001b[0;34m\u001b[0m\u001b[0;34m\u001b[0m\u001b[0;34m\u001b[0m\u001b[0m\n\u001b[1;32m   1923\u001b[0m       return self._build_call_outputs(self._inference_function.call(\n\u001b[0;32m-> 1924\u001b[0;31m           ctx, args, cancellation_manager=cancellation_manager))\n\u001b[0m\u001b[1;32m   1925\u001b[0m     forward_backward = self._select_forward_and_backward_functions(\n\u001b[1;32m   1926\u001b[0m         \u001b[0margs\u001b[0m\u001b[0;34m,\u001b[0m\u001b[0;34m\u001b[0m\u001b[0;34m\u001b[0m\u001b[0m\n",
            "\u001b[0;32m/usr/local/lib/python3.6/dist-packages/tensorflow/python/eager/function.py\u001b[0m in \u001b[0;36mcall\u001b[0;34m(self, ctx, args, cancellation_manager)\u001b[0m\n\u001b[1;32m    548\u001b[0m               \u001b[0minputs\u001b[0m\u001b[0;34m=\u001b[0m\u001b[0margs\u001b[0m\u001b[0;34m,\u001b[0m\u001b[0;34m\u001b[0m\u001b[0;34m\u001b[0m\u001b[0m\n\u001b[1;32m    549\u001b[0m               \u001b[0mattrs\u001b[0m\u001b[0;34m=\u001b[0m\u001b[0mattrs\u001b[0m\u001b[0;34m,\u001b[0m\u001b[0;34m\u001b[0m\u001b[0;34m\u001b[0m\u001b[0m\n\u001b[0;32m--> 550\u001b[0;31m               ctx=ctx)\n\u001b[0m\u001b[1;32m    551\u001b[0m         \u001b[0;32melse\u001b[0m\u001b[0;34m:\u001b[0m\u001b[0;34m\u001b[0m\u001b[0;34m\u001b[0m\u001b[0m\n\u001b[1;32m    552\u001b[0m           outputs = execute.execute_with_cancellation(\n",
            "\u001b[0;32m/usr/local/lib/python3.6/dist-packages/tensorflow/python/eager/execute.py\u001b[0m in \u001b[0;36mquick_execute\u001b[0;34m(op_name, num_outputs, inputs, attrs, ctx, name)\u001b[0m\n\u001b[1;32m     58\u001b[0m     \u001b[0mctx\u001b[0m\u001b[0;34m.\u001b[0m\u001b[0mensure_initialized\u001b[0m\u001b[0;34m(\u001b[0m\u001b[0;34m)\u001b[0m\u001b[0;34m\u001b[0m\u001b[0;34m\u001b[0m\u001b[0m\n\u001b[1;32m     59\u001b[0m     tensors = pywrap_tfe.TFE_Py_Execute(ctx._handle, device_name, op_name,\n\u001b[0;32m---> 60\u001b[0;31m                                         inputs, attrs, num_outputs)\n\u001b[0m\u001b[1;32m     61\u001b[0m   \u001b[0;32mexcept\u001b[0m \u001b[0mcore\u001b[0m\u001b[0;34m.\u001b[0m\u001b[0m_NotOkStatusException\u001b[0m \u001b[0;32mas\u001b[0m \u001b[0me\u001b[0m\u001b[0;34m:\u001b[0m\u001b[0;34m\u001b[0m\u001b[0;34m\u001b[0m\u001b[0m\n\u001b[1;32m     62\u001b[0m     \u001b[0;32mif\u001b[0m \u001b[0mname\u001b[0m \u001b[0;32mis\u001b[0m \u001b[0;32mnot\u001b[0m \u001b[0;32mNone\u001b[0m\u001b[0;34m:\u001b[0m\u001b[0;34m\u001b[0m\u001b[0;34m\u001b[0m\u001b[0m\n",
            "\u001b[0;31mInvalidArgumentError\u001b[0m: 2 root error(s) found.\n  (0) Invalid argument:  indices[76,0] = 1311 is not in [0, 1001)\n\t [[node sequential_15/embedding_14/embedding_lookup (defined at <ipython-input-98-2077c5b9d91c>:5) ]]\n  (1) Invalid argument:  indices[76,0] = 1311 is not in [0, 1001)\n\t [[node sequential_15/embedding_14/embedding_lookup (defined at <ipython-input-98-2077c5b9d91c>:5) ]]\n\t [[sequential_15/embedding_14/embedding_lookup/_54]]\n0 successful operations.\n0 derived errors ignored. [Op:__inference_train_function_164707]\n\nErrors may have originated from an input operation.\nInput Source operations connected to node sequential_15/embedding_14/embedding_lookup:\n sequential_15/embedding_14/embedding_lookup/163437 (defined at /usr/lib/python3.6/contextlib.py:81)\n\nInput Source operations connected to node sequential_15/embedding_14/embedding_lookup:\n sequential_15/embedding_14/embedding_lookup/163437 (defined at /usr/lib/python3.6/contextlib.py:81)\n\nFunction call stack:\ntrain_function -> train_function\n"
          ]
        }
      ]
    },
    {
      "cell_type": "code",
      "metadata": {
        "id": "_AcXdyuIYfIO"
      },
      "source": [
        ""
      ],
      "execution_count": null,
      "outputs": []
    },
    {
      "cell_type": "markdown",
      "metadata": {
        "id": "F9FYXZwQZ3hm"
      },
      "source": [
        "#### n_grams"
      ]
    },
    {
      "cell_type": "code",
      "metadata": {
        "id": "_3ulkSC7Z63P"
      },
      "source": [
        "maxTokens = 1000\r\n",
        "vectorizeLayer = TextVectorization(max_tokens=maxTokens,\r\n",
        "                                   output_mode = 'int',\r\n",
        "                                   output_sequence_length=100,\r\n",
        "                                   ngrams=2)\r\n",
        "vectorizeLayer.adapt(trainX.values)"
      ],
      "execution_count": 99,
      "outputs": []
    },
    {
      "cell_type": "code",
      "metadata": {
        "colab": {
          "base_uri": "https://localhost:8080/"
        },
        "id": "3Z2hpLdraJj0",
        "outputId": "5625520f-8e51-443e-e7dd-3511e2baa4f4"
      },
      "source": [
        "model_rnn_ngrams = RNN_LSTM.build(vectorizeLayer,6)\r\n",
        "model_rnn_ngrams.compile(optimizer = 'adam', loss = 'binary_crossentropy', metrics = ['accuracy'])\r\n",
        "model_rnn_ngrams.summary()\r\n",
        "epochs = 20\r\n",
        "history_rnn_ngrams = model_rnn_ngrams.fit(train6, validation_data = val6, epochs = epochs)"
      ],
      "execution_count": 101,
      "outputs": [
        {
          "output_type": "stream",
          "text": [
            "Model: \"sequential_17\"\n",
            "_________________________________________________________________\n",
            "Layer (type)                 Output Shape              Param #   \n",
            "=================================================================\n",
            "text_vectorization_10 (TextV (None, 100)               0         \n",
            "_________________________________________________________________\n",
            "embedding_16 (Embedding)     (None, 100, 128)          128128    \n",
            "_________________________________________________________________\n",
            "lstm_17 (LSTM)               (None, 64)                49408     \n",
            "_________________________________________________________________\n",
            "dropout_32 (Dropout)         (None, 64)                0         \n",
            "_________________________________________________________________\n",
            "dense_32 (Dense)             (None, 64)                4160      \n",
            "_________________________________________________________________\n",
            "dropout_33 (Dropout)         (None, 64)                0         \n",
            "_________________________________________________________________\n",
            "dense_33 (Dense)             (None, 6)                 390       \n",
            "=================================================================\n",
            "Total params: 182,086\n",
            "Trainable params: 182,086\n",
            "Non-trainable params: 0\n",
            "_________________________________________________________________\n",
            "Epoch 1/20\n",
            "385/385 [==============================] - 18s 48ms/step - loss: 0.4243 - accuracy: 0.2421 - val_loss: 0.3731 - val_accuracy: 0.5052\n",
            "Epoch 2/20\n",
            "385/385 [==============================] - 18s 47ms/step - loss: 0.3641 - accuracy: 0.3956 - val_loss: 0.3583 - val_accuracy: 0.6864\n",
            "Epoch 3/20\n",
            "385/385 [==============================] - 18s 46ms/step - loss: 0.3535 - accuracy: 0.4682 - val_loss: 0.3620 - val_accuracy: 0.7137\n",
            "Epoch 4/20\n",
            "385/385 [==============================] - 18s 46ms/step - loss: 0.3475 - accuracy: 0.5431 - val_loss: 0.3599 - val_accuracy: 0.6778\n",
            "Epoch 5/20\n",
            "385/385 [==============================] - 18s 47ms/step - loss: 0.3406 - accuracy: 0.5847 - val_loss: 0.3608 - val_accuracy: 0.7404\n",
            "Epoch 6/20\n",
            "385/385 [==============================] - 18s 46ms/step - loss: 0.3344 - accuracy: 0.6366 - val_loss: 0.3629 - val_accuracy: 0.7963\n",
            "Epoch 7/20\n",
            "385/385 [==============================] - 18s 47ms/step - loss: 0.3301 - accuracy: 0.6675 - val_loss: 0.3606 - val_accuracy: 0.7221\n",
            "Epoch 8/20\n",
            "385/385 [==============================] - 18s 46ms/step - loss: 0.3264 - accuracy: 0.6884 - val_loss: 0.3579 - val_accuracy: 0.6928\n",
            "Epoch 9/20\n",
            "385/385 [==============================] - 18s 47ms/step - loss: 0.3218 - accuracy: 0.6971 - val_loss: 0.3648 - val_accuracy: 0.6663\n",
            "Epoch 10/20\n",
            "385/385 [==============================] - 18s 46ms/step - loss: 0.3171 - accuracy: 0.7274 - val_loss: 0.3619 - val_accuracy: 0.8036\n",
            "Epoch 11/20\n",
            "385/385 [==============================] - 18s 46ms/step - loss: 0.3139 - accuracy: 0.7400 - val_loss: 0.3652 - val_accuracy: 0.6846\n",
            "Epoch 12/20\n",
            "385/385 [==============================] - 18s 46ms/step - loss: 0.3100 - accuracy: 0.7503 - val_loss: 0.3720 - val_accuracy: 0.6394\n",
            "Epoch 13/20\n",
            "385/385 [==============================] - 18s 47ms/step - loss: 0.3058 - accuracy: 0.7527 - val_loss: 0.3719 - val_accuracy: 0.7213\n",
            "Epoch 14/20\n",
            "385/385 [==============================] - 18s 47ms/step - loss: 0.3002 - accuracy: 0.7601 - val_loss: 0.3739 - val_accuracy: 0.7596\n",
            "Epoch 15/20\n",
            "385/385 [==============================] - 18s 46ms/step - loss: 0.2989 - accuracy: 0.7678 - val_loss: 0.3717 - val_accuracy: 0.7137\n",
            "Epoch 16/20\n",
            "385/385 [==============================] - 18s 47ms/step - loss: 0.2940 - accuracy: 0.7699 - val_loss: 0.3877 - val_accuracy: 0.7833\n",
            "Epoch 17/20\n",
            "385/385 [==============================] - 18s 47ms/step - loss: 0.2914 - accuracy: 0.7742 - val_loss: 0.3770 - val_accuracy: 0.7382\n",
            "Epoch 18/20\n",
            "385/385 [==============================] - 18s 46ms/step - loss: 0.2865 - accuracy: 0.7763 - val_loss: 0.3804 - val_accuracy: 0.7537\n",
            "Epoch 19/20\n",
            "385/385 [==============================] - 18s 46ms/step - loss: 0.2807 - accuracy: 0.7856 - val_loss: 0.3981 - val_accuracy: 0.7859\n",
            "Epoch 20/20\n",
            "385/385 [==============================] - 18s 46ms/step - loss: 0.2780 - accuracy: 0.7904 - val_loss: 0.3916 - val_accuracy: 0.8045\n"
          ],
          "name": "stdout"
        }
      ]
    },
    {
      "cell_type": "code",
      "metadata": {
        "colab": {
          "base_uri": "https://localhost:8080/",
          "height": 914
        },
        "id": "tv7_4HRsacIV",
        "outputId": "3ca13eb8-bbf3-4544-e4a6-7c582c23173d"
      },
      "source": [
        "plot_report(history_rnn_ngrams,model_rnn_ngrams)\r\n",
        "\r\n",
        "print(\"Training Accuracy\")\r\n",
        "predictedY = np.around(model_rnn6.predict(trainX.values))\r\n",
        "print(classification_report(trainY, predictedY))\r\n",
        "\r\n",
        "print()\r\n",
        "print(\"Testing Accuracy\")\r\n",
        "predictedY = np.around(model_rnn6.predict(testX.values))\r\n",
        "print(classification_report(testY, predictedY))"
      ],
      "execution_count": 103,
      "outputs": [
        {
          "output_type": "stream",
          "text": [
            "Training Accuracy\n"
          ],
          "name": "stdout"
        },
        {
          "output_type": "stream",
          "text": [
            "/usr/local/lib/python3.6/dist-packages/sklearn/metrics/_classification.py:1272: UndefinedMetricWarning: Precision and F-score are ill-defined and being set to 0.0 in samples with no predicted labels. Use `zero_division` parameter to control this behavior.\n",
            "  _warn_prf(average, modifier, msg_start, len(result))\n",
            "/usr/local/lib/python3.6/dist-packages/sklearn/metrics/_classification.py:1272: UndefinedMetricWarning: Recall and F-score are ill-defined and being set to 0.0 in samples with no true labels. Use `zero_division` parameter to control this behavior.\n",
            "  _warn_prf(average, modifier, msg_start, len(result))\n"
          ],
          "name": "stderr"
        },
        {
          "output_type": "stream",
          "text": [
            "              precision    recall  f1-score   support\n",
            "\n",
            "           0       0.93      0.98      0.95     42988\n",
            "           1       0.89      0.98      0.93     40470\n",
            "           2       0.90      0.99      0.94     43737\n",
            "           3       0.90      0.98      0.94     43293\n",
            "           4       0.90      0.98      0.94     40800\n",
            "           5       0.90      0.98      0.94     41099\n",
            "\n",
            "   micro avg       0.90      0.98      0.94    252387\n",
            "   macro avg       0.90      0.98      0.94    252387\n",
            "weighted avg       0.90      0.98      0.94    252387\n",
            " samples avg       0.86      0.91      0.87    252387\n",
            "\n",
            "\n",
            "Testing Accuracy\n",
            "              precision    recall  f1-score   support\n",
            "\n",
            "           0       0.91      0.96      0.93      5302\n",
            "           1       0.87      0.95      0.90      5003\n",
            "           2       0.89      0.99      0.94      5380\n",
            "           3       0.89      0.98      0.93      5341\n",
            "           4       0.87      0.95      0.91      5034\n",
            "           5       0.88      0.95      0.91      5084\n",
            "\n",
            "   micro avg       0.89      0.96      0.92     31144\n",
            "   macro avg       0.89      0.96      0.92     31144\n",
            "weighted avg       0.89      0.96      0.92     31144\n",
            " samples avg       0.85      0.90      0.85     31144\n",
            "\n"
          ],
          "name": "stdout"
        },
        {
          "output_type": "display_data",
          "data": {
            "image/png": "[encoded data removed]",
            "text/plain": [
              "<Figure size 432x288 with 1 Axes>"
            ]
          },
          "metadata": {
            "tags": []
          }
        }
      ]
    },
    {
      "cell_type": "code",
      "metadata": {
        "colab": {
          "base_uri": "https://localhost:8080/"
        },
        "id": "TMzLF8_Mh5Wl",
        "outputId": "a0d0b514-de9d-47ec-bddf-c74592a91381"
      },
      "source": [
        "model_rnn6.save(\"models/rnn\")\r\n",
        "model_rnn_ngrams.save(\"models/rnn_ngrams\")"
      ],
      "execution_count": 104,
      "outputs": [
        {
          "output_type": "stream",
          "text": [
            "WARNING:tensorflow:From /usr/local/lib/python3.6/dist-packages/tensorflow/python/training/tracking/tracking.py:111: Model.state_updates (from tensorflow.python.keras.engine.training) is deprecated and will be removed in a future version.\n",
            "Instructions for updating:\n",
            "This property should not be used in TensorFlow 2.0, as updates are applied automatically.\n",
            "WARNING:tensorflow:From /usr/local/lib/python3.6/dist-packages/tensorflow/python/training/tracking/tracking.py:111: Layer.updates (from tensorflow.python.keras.engine.base_layer) is deprecated and will be removed in a future version.\n",
            "Instructions for updating:\n",
            "This property should not be used in TensorFlow 2.0, as updates are applied automatically.\n",
            "INFO:tensorflow:Assets written to: models/rnn/assets\n",
            "INFO:tensorflow:Assets written to: models/rnn_ngrams/assets\n"
          ],
          "name": "stdout"
        }
      ]
    },
    {
      "cell_type": "markdown",
      "metadata": {
        "id": "d-yclD5OjpVR"
      },
      "source": [
        "## Convolutional Neural Network with Word2Vec"
      ]
    },
    {
      "cell_type": "markdown",
      "metadata": {
        "id": "PLPlI5K4nCvC"
      },
      "source": [
        "### Standard CNN"
      ]
    },
    {
      "cell_type": "code",
      "metadata": {
        "id": "-s8MGB_0kHHm"
      },
      "source": [
        "from tensorflow.keras.models import Sequential\r\n",
        "from tensorflow.keras.layers import Activation\r\n",
        "from tensorflow.keras.layers import Conv1D\r\n",
        "from tensorflow.keras.layers import Dense\r\n",
        "from tensorflow.keras.layers import MaxPooling1D\r\n",
        "from tensorflow.keras.layers import Flatten\r\n",
        "class CNN:\r\n",
        "  def build(vectorizeLayer,classes):\r\n",
        "      # create a feedforward neural net\r\n",
        "      model = Sequential()\r\n",
        "      \r\n",
        "      model.add(Input(shape=(1,), dtype = 'string'))\r\n",
        "      \r\n",
        "      # add TextVectorization layer to the model\r\n",
        "      model.add(vectorizeLayer)\r\n",
        "\r\n",
        "      # add an embedding layer to turn integers into fixed-length vectors\r\n",
        "      model.add(Embedding(maxTokens + 1, 128))\r\n",
        "\r\n",
        "      # add a convolutional layer with 32 1x5 filters and a 1x2 max pooling layer\r\n",
        "      model.add(Conv1D(32, 5, padding = 'same'))\r\n",
        "      model.add(Activation('relu'))\r\n",
        "      model.add(MaxPooling1D(pool_size = 2))\r\n",
        "      \r\n",
        "      # add another convolutional layer with 64 1x5 filters and a 1x2 max pooling layer\r\n",
        "      model.add(Conv1D(64, 5, padding= 'same'))\r\n",
        "      model.add(Activation('relu'))\r\n",
        "      model.add(MaxPooling1D(pool_size = 2))\r\n",
        "      \r\n",
        "      # add another convolutional layer\r\n",
        "      model.add(Conv1D(128, 5, padding = 'same'))\r\n",
        "      model.add(Activation('relu'))\r\n",
        "      \r\n",
        "      # add a fully-connected layer\r\n",
        "      model.add(Flatten())\r\n",
        "      model.add(Dense(500))\r\n",
        "      model.add(Activation('relu'))\r\n",
        "      \r\n",
        "      # add a softmax classifier\r\n",
        "      model.add(Dense(classes))\r\n",
        "      model.add(Activation('softmax'))\r\n",
        "      \r\n",
        "      # return the constructed model\r\n",
        "      return model"
      ],
      "execution_count": 15,
      "outputs": []
    },
    {
      "cell_type": "code",
      "metadata": {
        "colab": {
          "base_uri": "https://localhost:8080/"
        },
        "id": "QpD5bJHFmD0a",
        "outputId": "e64da028-10d8-4b3c-f2aa-1689c7c496d8"
      },
      "source": [
        "model_cnn = CNN.build(vectorizeLayer,6)\r\n",
        "model_cnn.compile(loss = 'binary_crossentropy', optimizer = 'adam', metrics = ['accuracy'])\r\n",
        "model_cnn.summary()\r\n",
        "epochs = 10\r\n",
        "history_cnn = model_cnn.fit(train6, validation_data = val6, epochs = epochs)"
      ],
      "execution_count": 20,
      "outputs": [
        {
          "output_type": "stream",
          "text": [
            "Model: \"sequential_3\"\n",
            "_________________________________________________________________\n",
            "Layer (type)                 Output Shape              Param #   \n",
            "=================================================================\n",
            "text_vectorization (TextVect (None, 100)               0         \n",
            "_________________________________________________________________\n",
            "embedding_3 (Embedding)      (None, 100, 128)          128128    \n",
            "_________________________________________________________________\n",
            "conv1d_9 (Conv1D)            (None, 100, 32)           20512     \n",
            "_________________________________________________________________\n",
            "activation_15 (Activation)   (None, 100, 32)           0         \n",
            "_________________________________________________________________\n",
            "max_pooling1d_6 (MaxPooling1 (None, 50, 32)            0         \n",
            "_________________________________________________________________\n",
            "conv1d_10 (Conv1D)           (None, 50, 64)            10304     \n",
            "_________________________________________________________________\n",
            "activation_16 (Activation)   (None, 50, 64)            0         \n",
            "_________________________________________________________________\n",
            "max_pooling1d_7 (MaxPooling1 (None, 25, 64)            0         \n",
            "_________________________________________________________________\n",
            "conv1d_11 (Conv1D)           (None, 25, 128)           41088     \n",
            "_________________________________________________________________\n",
            "activation_17 (Activation)   (None, 25, 128)           0         \n",
            "_________________________________________________________________\n",
            "flatten_3 (Flatten)          (None, 3200)              0         \n",
            "_________________________________________________________________\n",
            "dense_6 (Dense)              (None, 500)               1600500   \n",
            "_________________________________________________________________\n",
            "activation_18 (Activation)   (None, 500)               0         \n",
            "_________________________________________________________________\n",
            "dense_7 (Dense)              (None, 6)                 3006      \n",
            "_________________________________________________________________\n",
            "activation_19 (Activation)   (None, 6)                 0         \n",
            "=================================================================\n",
            "Total params: 1,803,538\n",
            "Trainable params: 1,803,538\n",
            "Non-trainable params: 0\n",
            "_________________________________________________________________\n",
            "Epoch 1/10\n",
            "385/385 [==============================] - 12s 31ms/step - loss: 1.5552 - accuracy: 0.3238 - val_loss: 1.5567 - val_accuracy: 0.6345\n",
            "Epoch 2/10\n",
            "385/385 [==============================] - 12s 30ms/step - loss: 1.5538 - accuracy: 0.6337 - val_loss: 1.5568 - val_accuracy: 0.8294\n",
            "Epoch 3/10\n",
            "385/385 [==============================] - 12s 31ms/step - loss: 1.5524 - accuracy: 0.7063 - val_loss: 1.5568 - val_accuracy: 0.7292\n",
            "Epoch 4/10\n",
            "385/385 [==============================] - 12s 31ms/step - loss: 1.5505 - accuracy: 0.7668 - val_loss: 1.5578 - val_accuracy: 0.7669\n",
            "Epoch 5/10\n",
            "385/385 [==============================] - 12s 30ms/step - loss: 1.5486 - accuracy: 0.7913 - val_loss: 1.5661 - val_accuracy: 0.7334\n",
            "Epoch 6/10\n",
            "385/385 [==============================] - 12s 31ms/step - loss: 1.5469 - accuracy: 0.8038 - val_loss: 1.5582 - val_accuracy: 0.8115\n",
            "Epoch 7/10\n",
            "385/385 [==============================] - 13s 33ms/step - loss: 1.5456 - accuracy: 0.8064 - val_loss: 1.5614 - val_accuracy: 0.8065\n",
            "Epoch 8/10\n",
            "385/385 [==============================] - 12s 31ms/step - loss: 1.5447 - accuracy: 0.8173 - val_loss: 1.5711 - val_accuracy: 0.7749\n",
            "Epoch 9/10\n",
            "385/385 [==============================] - 12s 30ms/step - loss: 1.5442 - accuracy: 0.8176 - val_loss: 1.5655 - val_accuracy: 0.7021\n",
            "Epoch 10/10\n",
            "385/385 [==============================] - 12s 30ms/step - loss: 1.5429 - accuracy: 0.8090 - val_loss: 1.5682 - val_accuracy: 0.6645\n"
          ],
          "name": "stdout"
        }
      ]
    },
    {
      "cell_type": "code",
      "metadata": {
        "id": "b6f8Vd_Q-D3D"
      },
      "source": [
        "predictedY = model_cnn.predict(testX.values)"
      ],
      "execution_count": 87,
      "outputs": []
    },
    {
      "cell_type": "code",
      "metadata": {
        "colab": {
          "base_uri": "https://localhost:8080/",
          "height": 299
        },
        "id": "SsZzCBnQmN5Z",
        "outputId": "97102ee0-1152-4dbe-c00e-677736e8165b"
      },
      "source": [
        "plot_report(history_cnn,model_cnn)"
      ],
      "execution_count": 23,
      "outputs": [
        {
          "output_type": "display_data",
          "data": {
            "image/png": "[encoded data removed]",
            "text/plain": [
              "<Figure size 432x288 with 1 Axes>"
            ]
          },
          "metadata": {
            "tags": []
          }
        }
      ]
    },
    {
      "cell_type": "code",
      "metadata": {
        "colab": {
          "base_uri": "https://localhost:8080/"
        },
        "id": "05vo6BEP0-et",
        "outputId": "5cef50d4-4daf-423d-8b6b-fc6d2fd9b689"
      },
      "source": [
        "model_cnn.save(\"models/cnn\")"
      ],
      "execution_count": 24,
      "outputs": [
        {
          "output_type": "stream",
          "text": [
            "WARNING:tensorflow:From /usr/local/lib/python3.6/dist-packages/tensorflow/python/training/tracking/tracking.py:111: Model.state_updates (from tensorflow.python.keras.engine.training) is deprecated and will be removed in a future version.\n",
            "Instructions for updating:\n",
            "This property should not be used in TensorFlow 2.0, as updates are applied automatically.\n",
            "WARNING:tensorflow:From /usr/local/lib/python3.6/dist-packages/tensorflow/python/training/tracking/tracking.py:111: Layer.updates (from tensorflow.python.keras.engine.base_layer) is deprecated and will be removed in a future version.\n",
            "Instructions for updating:\n",
            "This property should not be used in TensorFlow 2.0, as updates are applied automatically.\n",
            "INFO:tensorflow:Assets written to: models/cnn/assets\n"
          ],
          "name": "stdout"
        }
      ]
    },
    {
      "cell_type": "markdown",
      "metadata": {
        "id": "vtWl5AxYr8hf"
      },
      "source": [
        "### CNN With Word2Vec embedding layer"
      ]
    },
    {
      "cell_type": "code",
      "metadata": {
        "colab": {
          "base_uri": "https://localhost:8080/"
        },
        "id": "oS0sBBw2sAX8",
        "outputId": "2de2d8e0-e9b1-449f-b8eb-5452e2fb453b"
      },
      "source": [
        "!pip install gdown\r\n",
        "!gdown https://drive.google.com/uc?id=0B7XkCwpI5KDYNlNUTTlSS21pQmM\r\n",
        "!gunzip GoogleNews-vectors-negative300.bin.gz"
      ],
      "execution_count": 129,
      "outputs": [
        {
          "output_type": "stream",
          "text": [
            "Requirement already satisfied: gdown in /usr/local/lib/python3.6/dist-packages (3.6.4)\n",
            "Requirement already satisfied: six in /usr/local/lib/python3.6/dist-packages (from gdown) (1.15.0)\n",
            "Requirement already satisfied: tqdm in /usr/local/lib/python3.6/dist-packages (from gdown) (4.41.1)\n",
            "Requirement already satisfied: requests in /usr/local/lib/python3.6/dist-packages (from gdown) (2.23.0)\n",
            "Requirement already satisfied: urllib3!=1.25.0,!=1.25.1,<1.26,>=1.21.1 in /usr/local/lib/python3.6/dist-packages (from requests->gdown) (1.24.3)\n",
            "Requirement already satisfied: certifi>=2017.4.17 in /usr/local/lib/python3.6/dist-packages (from requests->gdown) (2020.11.8)\n",
            "Requirement already satisfied: idna<3,>=2.5 in /usr/local/lib/python3.6/dist-packages (from requests->gdown) (2.10)\n",
            "Requirement already satisfied: chardet<4,>=3.0.2 in /usr/local/lib/python3.6/dist-packages (from requests->gdown) (3.0.4)\n",
            "Downloading...\n",
            "From: https://drive.google.com/uc?id=0B7XkCwpI5KDYNlNUTTlSS21pQmM\n",
            "To: /content/rnn-mal-sentiment/GoogleNews-vectors-negative300.bin.gz\n",
            "1.65GB [00:09, 170MB/s]\n"
          ],
          "name": "stdout"
        }
      ]
    },
    {
      "cell_type": "markdown",
      "metadata": {
        "id": "VOXLm-RYxYUm"
      },
      "source": [
        "Loading Word2Vec weights correspending to TextVectorization layer's vocabulary"
      ]
    },
    {
      "cell_type": "code",
      "metadata": {
        "id": "T9jzR730uOop"
      },
      "source": [
        "import gensim\r\n",
        "from gensim.models import Word2Vec\r\n",
        "from gensim.utils import simple_preprocess\r\n",
        "\r\n",
        "from gensim.models.keyedvectors import KeyedVectors\r\n",
        "\r\n",
        "word_vectors = KeyedVectors.load_word2vec_format('GoogleNews-vectors-negative300.bin', binary=True)\r\n",
        "\r\n",
        "NUM_WORDS=1000\r\n",
        "vocabulary_size=len(vectorizeLayer.get_vocabulary())+1"
      ],
      "execution_count": null,
      "outputs": []
    },
    {
      "cell_type": "code",
      "metadata": {
        "id": "-VFeecK0zuhn"
      },
      "source": [
        "EMBEDDING_DIM=300\r\n",
        "embedding_matrix = np.zeros((vocabulary_size, EMBEDDING_DIM))\r\n",
        "for word in vectorizeLayer.get_vocabulary():\r\n",
        "  for i in range(vocabulary_size):\r\n",
        "    if i>=NUM_WORDS:\r\n",
        "        continue\r\n",
        "    try:\r\n",
        "        embedding_vector = word_vectors[word]\r\n",
        "        embedding_matrix[i] = embedding_vector\r\n",
        "    except KeyError:\r\n",
        "        embedding_matrix[i]=np.random.normal(0,np.sqrt(0.25),EMBEDDING_DIM)\r\n",
        "\r\n",
        "del(word_vectors)"
      ],
      "execution_count": 12,
      "outputs": []
    },
    {
      "cell_type": "code",
      "metadata": {
        "id": "svDbbfK0xW4z"
      },
      "source": [
        "class CNN_Word2Vec:\r\n",
        "  def build(vectorizeLayer,classes):\r\n",
        "      # create a feedforward neural net\r\n",
        "      model = Sequential()\r\n",
        "      \r\n",
        "      model.add(Input(shape=(1,), dtype = 'string'))\r\n",
        "      \r\n",
        "      # add TextVectorization layer to the model\r\n",
        "      model.add(vectorizeLayer)\r\n",
        "\r\n",
        "      # add an embedding layer to turn integers into fixed-length vectors\r\n",
        "      model.add(Embedding(vocabulary_size,\r\n",
        "                            EMBEDDING_DIM,\r\n",
        "                            weights=[embedding_matrix],\r\n",
        "                            trainable=True))\r\n",
        "\r\n",
        "      # add a convolutional layer with 32 1x5 filters and a 1x2 max pooling layer\r\n",
        "      model.add(Conv1D(32, 5, padding = 'same'))\r\n",
        "      model.add(Activation('relu'))\r\n",
        "      model.add(MaxPooling1D(pool_size = 2))\r\n",
        "      \r\n",
        "      # add another convolutional layer with 64 1x5 filters and a 1x2 max pooling layer\r\n",
        "      model.add(Conv1D(64, 5, padding= 'same'))\r\n",
        "      model.add(Activation('relu'))\r\n",
        "      model.add(MaxPooling1D(pool_size = 2))\r\n",
        "      \r\n",
        "      # add another convolutional layer\r\n",
        "      model.add(Conv1D(128, 5, padding = 'same'))\r\n",
        "      model.add(Activation('relu'))\r\n",
        "      \r\n",
        "      # add a fully-connected layer\r\n",
        "      model.add(Flatten())\r\n",
        "      model.add(Dense(500))\r\n",
        "      model.add(Activation('relu'))\r\n",
        "      \r\n",
        "      # add a softmax classifier\r\n",
        "      model.add(Dense(classes))\r\n",
        "      model.add(Activation('softmax'))\r\n",
        "      \r\n",
        "      # return the constructed model\r\n",
        "      return model"
      ],
      "execution_count": 25,
      "outputs": []
    },
    {
      "cell_type": "code",
      "metadata": {
        "colab": {
          "base_uri": "https://localhost:8080/"
        },
        "id": "RIUpcwDKzi-m",
        "outputId": "0efb8a9a-399f-4aa4-9f43-35d4d52b1958"
      },
      "source": [
        "model_cnn_w2v = CNN_Word2Vec.build(vectorizeLayer,6)\r\n",
        "model_cnn_w2v.compile(loss = 'binary_crossentropy', optimizer = 'adam', metrics = ['accuracy'])\r\n",
        "model_cnn_w2v.summary()\r\n",
        "epochs = 10\r\n",
        "history_cnn_w2v = model_cnn_w2v.fit(train6, validation_data = val6, epochs = epochs)"
      ],
      "execution_count": 27,
      "outputs": [
        {
          "output_type": "stream",
          "text": [
            "Model: \"sequential_5\"\n",
            "_________________________________________________________________\n",
            "Layer (type)                 Output Shape              Param #   \n",
            "=================================================================\n",
            "text_vectorization (TextVect (None, 100)               0         \n",
            "_________________________________________________________________\n",
            "embedding_5 (Embedding)      (None, 100, 300)          300300    \n",
            "_________________________________________________________________\n",
            "conv1d_15 (Conv1D)           (None, 100, 32)           48032     \n",
            "_________________________________________________________________\n",
            "activation_25 (Activation)   (None, 100, 32)           0         \n",
            "_________________________________________________________________\n",
            "max_pooling1d_10 (MaxPooling (None, 50, 32)            0         \n",
            "_________________________________________________________________\n",
            "conv1d_16 (Conv1D)           (None, 50, 64)            10304     \n",
            "_________________________________________________________________\n",
            "activation_26 (Activation)   (None, 50, 64)            0         \n",
            "_________________________________________________________________\n",
            "max_pooling1d_11 (MaxPooling (None, 25, 64)            0         \n",
            "_________________________________________________________________\n",
            "conv1d_17 (Conv1D)           (None, 25, 128)           41088     \n",
            "_________________________________________________________________\n",
            "activation_27 (Activation)   (None, 25, 128)           0         \n",
            "_________________________________________________________________\n",
            "flatten_5 (Flatten)          (None, 3200)              0         \n",
            "_________________________________________________________________\n",
            "dense_10 (Dense)             (None, 500)               1600500   \n",
            "_________________________________________________________________\n",
            "activation_28 (Activation)   (None, 500)               0         \n",
            "_________________________________________________________________\n",
            "dense_11 (Dense)             (None, 6)                 3006      \n",
            "_________________________________________________________________\n",
            "activation_29 (Activation)   (None, 6)                 0         \n",
            "=================================================================\n",
            "Total params: 2,003,230\n",
            "Trainable params: 2,003,230\n",
            "Non-trainable params: 0\n",
            "_________________________________________________________________\n",
            "Epoch 1/10\n",
            "385/385 [==============================] - 15s 38ms/step - loss: 1.5588 - accuracy: 0.1447 - val_loss: 1.5579 - val_accuracy: 0.0576\n",
            "Epoch 2/10\n",
            "385/385 [==============================] - 14s 38ms/step - loss: 1.5555 - accuracy: 0.1818 - val_loss: 1.5576 - val_accuracy: 0.2830\n",
            "Epoch 3/10\n",
            "385/385 [==============================] - 14s 37ms/step - loss: 1.5549 - accuracy: 0.4537 - val_loss: 1.5575 - val_accuracy: 0.8398\n",
            "Epoch 4/10\n",
            "385/385 [==============================] - 14s 37ms/step - loss: 1.5540 - accuracy: 0.5938 - val_loss: 1.5577 - val_accuracy: 0.2253\n",
            "Epoch 5/10\n",
            "385/385 [==============================] - 14s 37ms/step - loss: 1.5528 - accuracy: 0.6248 - val_loss: 1.5570 - val_accuracy: 0.7438\n",
            "Epoch 6/10\n",
            "385/385 [==============================] - 15s 38ms/step - loss: 1.5511 - accuracy: 0.6803 - val_loss: 1.5568 - val_accuracy: 0.8309\n",
            "Epoch 7/10\n",
            "385/385 [==============================] - 14s 38ms/step - loss: 1.5493 - accuracy: 0.7481 - val_loss: 1.5572 - val_accuracy: 0.8252\n",
            "Epoch 8/10\n",
            "385/385 [==============================] - 14s 37ms/step - loss: 1.5479 - accuracy: 0.7655 - val_loss: 1.5573 - val_accuracy: 0.8470\n",
            "Epoch 9/10\n",
            "385/385 [==============================] - 14s 37ms/step - loss: 1.5463 - accuracy: 0.7838 - val_loss: 1.5590 - val_accuracy: 0.8305\n",
            "Epoch 10/10\n",
            "385/385 [==============================] - 14s 37ms/step - loss: 1.5447 - accuracy: 0.7856 - val_loss: 1.5607 - val_accuracy: 0.8206\n"
          ],
          "name": "stdout"
        }
      ]
    },
    {
      "cell_type": "code",
      "metadata": {
        "colab": {
          "base_uri": "https://localhost:8080/",
          "height": 299
        },
        "id": "dm7bwpRc0CQs",
        "outputId": "b22fda79-8972-4c2c-a2c6-c6472f7850e2"
      },
      "source": [
        "plot_report(history_cnn_w2v,model_cnn_w2v)"
      ],
      "execution_count": 72,
      "outputs": [
        {
          "output_type": "display_data",
          "data": {
            "image/png": "[encoded data removed]",
            "text/plain": [
              "<Figure size 432x288 with 1 Axes>"
            ]
          },
          "metadata": {
            "tags": []
          }
        }
      ]
    },
    {
      "cell_type": "code",
      "metadata": {
        "colab": {
          "base_uri": "https://localhost:8080/"
        },
        "id": "tYhg0sk-26Xp",
        "outputId": "f27d1ecb-faa7-4c9d-b7b1-07041622c36e"
      },
      "source": [
        "model_cnn_w2v.save(\"models/cnn_w2v\")"
      ],
      "execution_count": 29,
      "outputs": [
        {
          "output_type": "stream",
          "text": [
            "INFO:tensorflow:Assets written to: models/cnn_w2v/assets\n"
          ],
          "name": "stdout"
        }
      ]
    },
    {
      "cell_type": "markdown",
      "metadata": {
        "id": "pj1p84Ye21qB"
      },
      "source": [
        "# Ensemble Model"
      ]
    },
    {
      "cell_type": "code",
      "metadata": {
        "colab": {
          "base_uri": "https://localhost:8080/"
        },
        "id": "NgFGoNdU2dga",
        "outputId": "6f1b7a21-1051-4c09-904e-424ca7520adc"
      },
      "source": [
        "from tensorflow.keras.models import load_model\r\n",
        "import glob\r\n",
        "\r\n",
        "# construct the path used to collect the models then initialize the\r\n",
        "# models list\r\n",
        "modelPaths = list(glob.glob(\"models/*\"))\r\n",
        "models = {}\r\n",
        "print(modelPaths)\r\n",
        "\r\n",
        "# loop over the model paths, loading the model, and adding it to\r\n",
        "# the list of models\r\n",
        "for (i, modelPath) in enumerate(modelPaths):\r\n",
        "\tprint('Loading model {}/{}'.format(i + 1, len(modelPaths)))\r\n",
        "\tmodels[modelPath.split(\"/\")[1]]=load_model(modelPath)"
      ],
      "execution_count": 74,
      "outputs": [
        {
          "output_type": "stream",
          "text": [
            "['models/cnn', 'models/rnn_ngrams', 'models/cnn_w2v', 'models/rnn']\n",
            "Loading model 1/4\n",
            "WARNING:tensorflow:9 out of the last 9 calls to <function recreate_function.<locals>.restored_function_body at 0x7f26127fa840> triggered tf.function retracing. Tracing is expensive and the excessive number of tracings could be due to (1) creating @tf.function repeatedly in a loop, (2) passing tensors with different shapes, (3) passing Python objects instead of tensors. For (1), please define your @tf.function outside of the loop. For (2), @tf.function has experimental_relax_shapes=True option that relaxes argument shapes that can avoid unnecessary retracing. For (3), please refer to https://www.tensorflow.org/tutorials/customization/performance#python_or_tensor_args and https://www.tensorflow.org/api_docs/python/tf/function for  more details.\n",
            "Loading model 2/4\n",
            "WARNING:tensorflow:10 out of the last 10 calls to <function recreate_function.<locals>.restored_function_body at 0x7f260beb5b70> triggered tf.function retracing. Tracing is expensive and the excessive number of tracings could be due to (1) creating @tf.function repeatedly in a loop, (2) passing tensors with different shapes, (3) passing Python objects instead of tensors. For (1), please define your @tf.function outside of the loop. For (2), @tf.function has experimental_relax_shapes=True option that relaxes argument shapes that can avoid unnecessary retracing. For (3), please refer to https://www.tensorflow.org/tutorials/customization/performance#python_or_tensor_args and https://www.tensorflow.org/api_docs/python/tf/function for  more details.\n",
            "Loading model 3/4\n",
            "WARNING:tensorflow:11 out of the last 11 calls to <function recreate_function.<locals>.restored_function_body at 0x7f260b9a4f28> triggered tf.function retracing. Tracing is expensive and the excessive number of tracings could be due to (1) creating @tf.function repeatedly in a loop, (2) passing tensors with different shapes, (3) passing Python objects instead of tensors. For (1), please define your @tf.function outside of the loop. For (2), @tf.function has experimental_relax_shapes=True option that relaxes argument shapes that can avoid unnecessary retracing. For (3), please refer to https://www.tensorflow.org/tutorials/customization/performance#python_or_tensor_args and https://www.tensorflow.org/api_docs/python/tf/function for  more details.\n",
            "Loading model 4/4\n",
            "WARNING:tensorflow:11 out of the last 11 calls to <function recreate_function.<locals>.restored_function_body at 0x7f2607d2f378> triggered tf.function retracing. Tracing is expensive and the excessive number of tracings could be due to (1) creating @tf.function repeatedly in a loop, (2) passing tensors with different shapes, (3) passing Python objects instead of tensors. For (1), please define your @tf.function outside of the loop. For (2), @tf.function has experimental_relax_shapes=True option that relaxes argument shapes that can avoid unnecessary retracing. For (3), please refer to https://www.tensorflow.org/tutorials/customization/performance#python_or_tensor_args and https://www.tensorflow.org/api_docs/python/tf/function for  more details.\n"
          ],
          "name": "stdout"
        }
      ]
    },
    {
      "cell_type": "code",
      "metadata": {
        "colab": {
          "base_uri": "https://localhost:8080/"
        },
        "id": "fRjgvdXU3M8u",
        "outputId": "70df58f9-dd4c-4129-f967-287aec73c260"
      },
      "source": [
        "# initialize the list of predictions\r\n",
        "print('Evaluating ensemble on Test set...')\r\n",
        "predictions = []\r\n",
        "\r\n",
        "def cnn_round(x):\r\n",
        "  return (x > 0.15)*1\r\n",
        "\r\n",
        "# loop over the models\r\n",
        "for key,model in models.items():\r\n",
        "  pred = model.predict(testX, batch_size=64)\r\n",
        "\t# use the current model to make predictions on the testing data,\r\n",
        "\t# then store these predictions in the aggregate predictions list\r\n",
        "  if \"cnn\" in key:\r\n",
        "    pred = cnn_round(pred)\r\n",
        "  else:\r\n",
        "    pred = np.around(pred)\r\n",
        "  predictions.append(pred)\r\n",
        "# average the probabilities across all model predictions, then show\r\n",
        "# a classification report\r\n",
        "prediction = np.average(predictions, axis=0)"
      ],
      "execution_count": 110,
      "outputs": [
        {
          "output_type": "stream",
          "text": [
            "Evaluating ensemble on Test set...\n"
          ],
          "name": "stdout"
        }
      ]
    },
    {
      "cell_type": "code",
      "metadata": {
        "colab": {
          "base_uri": "https://localhost:8080/"
        },
        "id": "SRspZWOq3zug",
        "outputId": "e6e7a3b2-c86c-4cc5-a711-a72e92519e1d"
      },
      "source": [
        "print(\"Testing Accuracy\")\r\n",
        "predictedY = np.around(prediction)\r\n",
        "print(classification_report(testY, predictedY))"
      ],
      "execution_count": 111,
      "outputs": [
        {
          "output_type": "stream",
          "text": [
            "Testing Accuracy\n",
            "              precision    recall  f1-score   support\n",
            "\n",
            "           0       0.93      0.98      0.95      5301\n",
            "           1       0.90      0.97      0.93      5016\n",
            "           2       0.90      0.99      0.94      5404\n",
            "           3       0.90      0.99      0.94      5342\n",
            "           4       0.90      0.97      0.94      5046\n",
            "           5       0.90      0.98      0.94      5087\n",
            "\n",
            "   micro avg       0.90      0.98      0.94     31196\n",
            "   macro avg       0.90      0.98      0.94     31196\n",
            "weighted avg       0.90      0.98      0.94     31196\n",
            " samples avg       0.87      0.92      0.87     31196\n",
            "\n"
          ],
          "name": "stdout"
        },
        {
          "output_type": "stream",
          "text": [
            "/usr/local/lib/python3.6/dist-packages/sklearn/metrics/_classification.py:1272: UndefinedMetricWarning: Precision and F-score are ill-defined and being set to 0.0 in samples with no predicted labels. Use `zero_division` parameter to control this behavior.\n",
            "  _warn_prf(average, modifier, msg_start, len(result))\n",
            "/usr/local/lib/python3.6/dist-packages/sklearn/metrics/_classification.py:1272: UndefinedMetricWarning: Recall and F-score are ill-defined and being set to 0.0 in samples with no true labels. Use `zero_division` parameter to control this behavior.\n",
            "  _warn_prf(average, modifier, msg_start, len(result))\n"
          ],
          "name": "stderr"
        }
      ]
    }
  ]
}