{
  "nbformat": 4,
  "nbformat_minor": 0,
  "metadata": {
    "colab": {
      "name": "main.ipynb",
      "provenance": [],
      "collapsed_sections": [],
      "authorship_tag": "ABX9TyO77Jc5RPximT50awxLNqML",
      "include_colab_link": true
    },
    "kernelspec": {
      "name": "python3",
      "display_name": "Python 3"
    }
  },
  "cells": [
    {
      "cell_type": "markdown",
      "metadata": {
        "id": "view-in-github",
        "colab_type": "text"
      },
      "source": [
        "<a href=\"https://colab.research.google.com/github/n0k0m3/rnn-mal-sentiment/blob/main/main.ipynb\" target=\"_parent\"><img src=\"https://colab.research.google.com/assets/colab-badge.svg\" alt=\"Open In Colab\"/></a>"
      ]
    },
    {
      "cell_type": "code",
      "metadata": {
        "id": "EEuics5JVl4-"
      },
      "source": [
        "%%capture\n",
        "!pip install -U tables\n",
        "!apt-get update && apt-get install git-lfs\n",
        "!git lfs clone https://github.com/n0k0m3/rnn-mal-sentiment"
      ],
      "execution_count": 2,
      "outputs": []
    },
    {
      "cell_type": "markdown",
      "metadata": {
        "id": "bhXfLjbfi13_"
      },
      "source": [
        "WARNING: Restart Runtime after running the 1st cell"
      ]
    },
    {
      "cell_type": "code",
      "metadata": {
        "id": "l4Ex8-u_V_Fn",
        "colab": {
          "base_uri": "https://localhost:8080/"
        },
        "outputId": "8b2872e7-327b-4947-af21-32504548d5e6"
      },
      "source": [
        "%cd rnn-mal-sentiment\n",
        "import pandas as pd\n",
        "import numpy as np\n",
        "import tensorflow as tf"
      ],
      "execution_count": 1,
      "outputs": [
        {
          "output_type": "stream",
          "text": [
            "/content/rnn-mal-sentiment\n"
          ],
          "name": "stdout"
        }
      ]
    },
    {
      "cell_type": "code",
      "metadata": {
        "id": "Zeo0L5Z4WRtZ"
      },
      "source": [
        "df = pd.read_hdf(\"data.h5\")"
      ],
      "execution_count": 2,
      "outputs": []
    },
    {
      "cell_type": "code",
      "metadata": {
        "id": "M5YiszUlb-mQ",
        "colab": {
          "base_uri": "https://localhost:8080/",
          "height": 402
        },
        "outputId": "06c9f33f-1925-4791-ec2b-16fe1472abfc"
      },
      "source": [
        "df"
      ],
      "execution_count": 3,
      "outputs": [
        {
          "output_type": "execute_result",
          "data": {
            "text/html": [
              "<div>\n",
              "<style scoped>\n",
              "    .dataframe tbody tr th:only-of-type {\n",
              "        vertical-align: middle;\n",
              "    }\n",
              "\n",
              "    .dataframe tbody tr th {\n",
              "        vertical-align: top;\n",
              "    }\n",
              "\n",
              "    .dataframe thead th {\n",
              "        text-align: right;\n",
              "    }\n",
              "</style>\n",
              "<table border=\"1\" class=\"dataframe\">\n",
              "  <thead>\n",
              "    <tr style=\"text-align: right;\">\n",
              "      <th></th>\n",
              "      <th>overall</th>\n",
              "      <th>story</th>\n",
              "      <th>animation</th>\n",
              "      <th>sound</th>\n",
              "      <th>character</th>\n",
              "      <th>enjoyment</th>\n",
              "      <th>review</th>\n",
              "    </tr>\n",
              "  </thead>\n",
              "  <tbody>\n",
              "    <tr>\n",
              "      <th>0</th>\n",
              "      <td>0</td>\n",
              "      <td>0</td>\n",
              "      <td>0</td>\n",
              "      <td>0</td>\n",
              "      <td>0</td>\n",
              "      <td>0</td>\n",
              "      <td>test review</td>\n",
              "    </tr>\n",
              "    <tr>\n",
              "      <th>1</th>\n",
              "      <td>10</td>\n",
              "      <td>10</td>\n",
              "      <td>10</td>\n",
              "      <td>10</td>\n",
              "      <td>9</td>\n",
              "      <td>10</td>\n",
              "      <td>Death Note is definitely one of the best anime...</td>\n",
              "    </tr>\n",
              "    <tr>\n",
              "      <th>2</th>\n",
              "      <td>8</td>\n",
              "      <td>8</td>\n",
              "      <td>9</td>\n",
              "      <td>9</td>\n",
              "      <td>8</td>\n",
              "      <td>9</td>\n",
              "      <td>Death Note. Another famous anime. But this tim...</td>\n",
              "    </tr>\n",
              "    <tr>\n",
              "      <th>3</th>\n",
              "      <td>10</td>\n",
              "      <td>10</td>\n",
              "      <td>10</td>\n",
              "      <td>10</td>\n",
              "      <td>10</td>\n",
              "      <td>10</td>\n",
              "      <td>Allow me to explain my love of \"the pay off\" i...</td>\n",
              "    </tr>\n",
              "    <tr>\n",
              "      <th>4</th>\n",
              "      <td>7</td>\n",
              "      <td>7</td>\n",
              "      <td>6</td>\n",
              "      <td>8</td>\n",
              "      <td>7</td>\n",
              "      <td>7</td>\n",
              "      <td>May contain light spoilers...\\r\\n\\r\\nDeath Not...</td>\n",
              "    </tr>\n",
              "    <tr>\n",
              "      <th>...</th>\n",
              "      <td>...</td>\n",
              "      <td>...</td>\n",
              "      <td>...</td>\n",
              "      <td>...</td>\n",
              "      <td>...</td>\n",
              "      <td>...</td>\n",
              "      <td>...</td>\n",
              "    </tr>\n",
              "    <tr>\n",
              "      <th>84859</th>\n",
              "      <td>8</td>\n",
              "      <td>7</td>\n",
              "      <td>10</td>\n",
              "      <td>9</td>\n",
              "      <td>8</td>\n",
              "      <td>5</td>\n",
              "      <td>SPOILEROONI'S (that means spoiler's)\\r\\n\\r\\nNa...</td>\n",
              "    </tr>\n",
              "    <tr>\n",
              "      <th>84860</th>\n",
              "      <td>9</td>\n",
              "      <td>8</td>\n",
              "      <td>9</td>\n",
              "      <td>8</td>\n",
              "      <td>7</td>\n",
              "      <td>9</td>\n",
              "      <td>Such a fun movie. It's not perfect, but it get...</td>\n",
              "    </tr>\n",
              "    <tr>\n",
              "      <th>84861</th>\n",
              "      <td>8</td>\n",
              "      <td>7</td>\n",
              "      <td>9</td>\n",
              "      <td>8</td>\n",
              "      <td>9</td>\n",
              "      <td>8</td>\n",
              "      <td>This movie does a lot of things right. It intr...</td>\n",
              "    </tr>\n",
              "    <tr>\n",
              "      <th>84862</th>\n",
              "      <td>8</td>\n",
              "      <td>7</td>\n",
              "      <td>8</td>\n",
              "      <td>8</td>\n",
              "      <td>8</td>\n",
              "      <td>8</td>\n",
              "      <td>It starts out strong, the first half is excell...</td>\n",
              "    </tr>\n",
              "    <tr>\n",
              "      <th>84863</th>\n",
              "      <td>7</td>\n",
              "      <td>7</td>\n",
              "      <td>10</td>\n",
              "      <td>9</td>\n",
              "      <td>9</td>\n",
              "      <td>7</td>\n",
              "      <td>My biggest problem with this movie is that, be...</td>\n",
              "    </tr>\n",
              "  </tbody>\n",
              "</table>\n",
              "<p>84864 rows × 7 columns</p>\n",
              "</div>"
            ],
            "text/plain": [
              "       overall  ...                                             review\n",
              "0            0  ...                                        test review\n",
              "1           10  ...  Death Note is definitely one of the best anime...\n",
              "2            8  ...  Death Note. Another famous anime. But this tim...\n",
              "3           10  ...  Allow me to explain my love of \"the pay off\" i...\n",
              "4            7  ...  May contain light spoilers...\\r\\n\\r\\nDeath Not...\n",
              "...        ...  ...                                                ...\n",
              "84859        8  ...  SPOILEROONI'S (that means spoiler's)\\r\\n\\r\\nNa...\n",
              "84860        9  ...  Such a fun movie. It's not perfect, but it get...\n",
              "84861        8  ...  This movie does a lot of things right. It intr...\n",
              "84862        8  ...  It starts out strong, the first half is excell...\n",
              "84863        7  ...  My biggest problem with this movie is that, be...\n",
              "\n",
              "[84864 rows x 7 columns]"
            ]
          },
          "metadata": {
            "tags": []
          },
          "execution_count": 3
        }
      ]
    },
    {
      "cell_type": "code",
      "metadata": {
        "id": "b3q_SVyHjBS3"
      },
      "source": [
        ""
      ],
      "execution_count": null,
      "outputs": []
    }
  ]
}